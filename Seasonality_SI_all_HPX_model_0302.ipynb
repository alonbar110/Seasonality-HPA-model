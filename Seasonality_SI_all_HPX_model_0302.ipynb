{
 "cells": [
  {
   "cell_type": "code",
   "execution_count": 3,
   "metadata": {},
   "outputs": [],
   "source": [
    "import pandas as pd\n",
    "import numpy as np\n",
    "import matplotlib.pyplot as plt\n",
    "import matplotlib\n",
    "import glob\n",
    "import calendar\n",
    "import pickle\n",
    "import os\n",
    "import matplotlib.image as mpimg\n",
    "import json\n",
    "from scipy.integrate import odeint\n",
    "from matplotlib import ticker\n",
    "from tqdm import tqdm_notebook as tqdm\n",
    "from scipy import interpolate\n",
    "from scipy.interpolate import interp1d\n",
    "from scipy.stats import circmean,circstd\n",
    "from scipy.optimize import curve_fit\n",
    "from scipy.stats import zscore\n",
    "from sympy import *\n",
    "import matplotlib.image as mpimg\n",
    "\n",
    "def_color=plt.rcParams['axes.prop_cycle'].by_key()['color']\n",
    "font = {'size'   : 15}\n",
    "month_names   = [x[:3] for x in calendar.month_name[1:13]]\n",
    "month_names0  = np.roll(month_names,1)\n",
    "\n",
    "def daylen(phi,delta=23.44*np.pi/180):#23.44 degrees is earth tilt\n",
    "    '''Computes fractional change in daylength as function of latitude'''\n",
    "    return (2*(180/np.pi*np.arccos(np.tan(delta)*np.tan(phi*np.pi/180)))/15)"
   ]
  },
  {
   "cell_type": "code",
   "execution_count": 4,
   "metadata": {},
   "outputs": [],
   "source": [
    "[pituitary_list,effector_list] = pickle.load(open('seasonality_processed_data1102_20_80.pickle','rb'))[0:2]\n",
    "effector_hormone_dic={'CORTISOL_BLOOD':'Cortisol',\n",
    "                     'CORTISOL_U_FREE_24h':'Urinary cortisol',\n",
    "                     'T3_FREE':'T3-free',\n",
    "                     'T4_FREE':'T4-free',\n",
    "                     'ESTRADIOL_E_2':'Estradiol',\n",
    "                     'TESTOSTERONE_TOTAL':'Testosterone',\n",
    "                     'INSULIN_LIKE_GROWTH_FACTOR_1':'IGF1'}\n",
    "\n",
    "pituitary_hormone_dic={'ACTH_ADRENOCORTICOTROPIC_HORMONE':'ACTH',\n",
    "                    'TSH_THYROID_STIMULATING_HORMONE':'TSH',\n",
    "                    'LH_LUTEINIZING_HORMONE':'LH',\n",
    "                    'FSH_FOLLICLE_STIMULATING_HORMONE':'FSH',\n",
    "                    'GROWTH_HORMONE_GH':'GH',\n",
    "                    'PROLACTIN':'Prolactin'}\n",
    "\n",
    "def HPA_phase_axspan(ax2,ax3):\n",
    "    eff_acrophase     = [effector_list[effector_hormone_dic['CORTISOL_BLOOD']][sex]['Cosinor']['pars'][0][2] for sex in ['male','female']]\n",
    "    eff_acrophase_std = [effector_list[effector_hormone_dic['CORTISOL_BLOOD']][sex]['Cosinor']['pars'][1][2] for sex in ['male','female']]\n",
    "    ax3.axvspan(eff_acrophase[0]-eff_acrophase_std[0], eff_acrophase[0]+eff_acrophase_std[0],color='lightgreen',ec='lightgreen',lw=2, alpha=0.5)\n",
    "    ax3.axvspan(eff_acrophase[1]-eff_acrophase_std[1], eff_acrophase[1]+eff_acrophase_std[1],color='darkgreen',ec='darkgreen',lw=2, alpha=0.5)\n",
    "\n",
    "def HPT_phase_axspan(ax2,ax3):\n",
    "    eff_acrophase     = [effector_list[effector_hormone_dic['T4_FREE']][sex]['Cosinor']['pars'][0][2] for sex in ['male','female']]\n",
    "    eff_acrophase_std = [effector_list[effector_hormone_dic['T4_FREE']][sex]['Cosinor']['pars'][1][2] for sex in ['male','female']]\n",
    "    ax3.axvspan(eff_acrophase[0]-eff_acrophase_std[0], eff_acrophase[0]+eff_acrophase_std[0],color='lightgreen',ec='lightgreen',lw=2, alpha=0.5)\n",
    "    ax3.axvspan(eff_acrophase[1]-eff_acrophase_std[1], eff_acrophase[1]+eff_acrophase_std[1],color='darkgreen',ec='darkgreen',lw=2, alpha=0.5)\n",
    "\n",
    "    eff_acrophase     = [effector_list[effector_hormone_dic['T3_FREE']][sex]['Cosinor']['pars'][0][2] for sex in ['male','female']]\n",
    "    eff_acrophase_std = [effector_list[effector_hormone_dic['T3_FREE']][sex]['Cosinor']['pars'][1][2] for sex in ['male','female']]\n",
    "    ax3.axvspan(eff_acrophase[0]-eff_acrophase_std[0], eff_acrophase[0]+eff_acrophase_std[0],color='lightgreen',ec='lightgreen',ls='--',lw=2, alpha=0.5)\n",
    "    ax3.axvspan(eff_acrophase[1]-eff_acrophase_std[1], eff_acrophase[1]+eff_acrophase_std[1],color='darkgreen',ec='darkgreen',ls='--',lw=2, alpha=0.5)\n",
    "\n",
    "    pit_acrophase     = [pituitary_list[pituitary_hormone_dic['TSH_THYROID_STIMULATING_HORMONE']][sex]['Cosinor']['pars'][0][2] for sex in ['male','female']]\n",
    "    pit_acrophase_std = [pituitary_list[pituitary_hormone_dic['TSH_THYROID_STIMULATING_HORMONE']][sex]['Cosinor']['pars'][1][2] for sex in ['male','female']]\n",
    "    ax2.axvspan(pit_acrophase[0]-pit_acrophase_std[0], pit_acrophase[0]+pit_acrophase_std[0],color='lightgreen',ec='lightgreen',lw=2, alpha=0.5)\n",
    "    ax2.axvspan(pit_acrophase[1]-pit_acrophase_std[1], pit_acrophase[1]+pit_acrophase_std[1],color='darkgreen',ec='darkgreen',lw=2, alpha=0.5)\n",
    "    \n",
    "def HPgrowth_phase_axspan(ax2,ax3):\n",
    "    eff_acrophase     = [effector_list[effector_hormone_dic['INSULIN_LIKE_GROWTH_FACTOR_1']][sex]['Cosinor']['pars'][0][2] for sex in ['male','female']]\n",
    "    eff_acrophase_std = [effector_list[effector_hormone_dic['INSULIN_LIKE_GROWTH_FACTOR_1']][sex]['Cosinor']['pars'][1][2] for sex in ['male','female']]\n",
    "    ax3.axvspan(eff_acrophase[0]-eff_acrophase_std[0], eff_acrophase[0]+eff_acrophase_std[0],color='lightgreen',ec='lightgreen',lw=2, alpha=0.5)\n",
    "    ax3.axvspan(eff_acrophase[1]-eff_acrophase_std[1], eff_acrophase[1]+eff_acrophase_std[1],color='darkgreen',ec='darkgreen',lw=2, alpha=0.5)\n",
    "\n",
    "    pit_acrophase     = [pituitary_list[pituitary_hormone_dic['GROWTH_HORMONE_GH']][sex]['Cosinor']['pars'][0][2] for sex in ['male','female']]\n",
    "    pit_acrophase_std = [pituitary_list[pituitary_hormone_dic['GROWTH_HORMONE_GH']][sex]['Cosinor']['pars'][1][2] for sex in ['male','female']]\n",
    "    ax2.axvspan(pit_acrophase[0]-pit_acrophase_std[0], pit_acrophase[0]+pit_acrophase_std[0],color='lightgreen',ec='lightgreen',lw=2, alpha=0.5)\n",
    "    ax2.axvspan(pit_acrophase[1]-pit_acrophase_std[1], pit_acrophase[1]+pit_acrophase_std[1],color='darkgreen',ec='darkgreen',lw=2, alpha=0.5)\n",
    "    \n",
    "def HPL_phase_axspan(ax2,ax3):\n",
    "    pit_acrophase     = [pituitary_list[pituitary_hormone_dic['PROLACTIN']][sex]['Cosinor']['pars'][0][2] for sex in ['male','female']]\n",
    "    pit_acrophase_std = [pituitary_list[pituitary_hormone_dic['PROLACTIN']][sex]['Cosinor']['pars'][1][2] for sex in ['male','female']]\n",
    "    ax2.axvspan(pit_acrophase[0]-pit_acrophase_std[0], pit_acrophase[0]+pit_acrophase_std[0],color='lightgreen',ec='lightgreen',lw=2, alpha=0.5)\n",
    "    ax2.axvspan(pit_acrophase[1]-pit_acrophase_std[1], pit_acrophase[1]+pit_acrophase_std[1],color='darkgreen',ec='darkgreen',lw=2, alpha=0.5)\n",
    "    \n",
    "def HPG_phase_axspan(ax2,ax3):\n",
    "    eff_acrophase     = [effector_list[effector_hormone_dic['TESTOSTERONE_TOTAL']][sex]['Cosinor']['pars'][0][2] for sex in ['male','female']]\n",
    "    eff_acrophase_std = [effector_list[effector_hormone_dic['TESTOSTERONE_TOTAL']][sex]['Cosinor']['pars'][1][2] for sex in ['male','female']]\n",
    "    ax3.axvspan(eff_acrophase[0]-eff_acrophase_std[0], eff_acrophase[0]+eff_acrophase_std[0],color='lightgreen',ec='lightgreen',lw=2, alpha=0.5)\n",
    "    \n",
    "    eff_acrophase     = [effector_list[effector_hormone_dic['ESTRADIOL_E_2']][sex]['Cosinor']['pars'][0][2] for sex in ['male','female']]\n",
    "    eff_acrophase_std = [effector_list[effector_hormone_dic['ESTRADIOL_E_2']][sex]['Cosinor']['pars'][1][2] for sex in ['male','female']]\n",
    "    ax3.axvspan(eff_acrophase[1]-eff_acrophase_std[1], eff_acrophase[1]+eff_acrophase_std[1],color='darkgreen',ec='darkgreen',lw=2, alpha=0.5)\n",
    "\n",
    "    pit_acrophase     = [pituitary_list[pituitary_hormone_dic['LH_LUTEINIZING_HORMONE']][sex]['Cosinor']['pars'][0][2] for sex in ['male','female']]\n",
    "    pit_acrophase_std = [pituitary_list[pituitary_hormone_dic['LH_LUTEINIZING_HORMONE']][sex]['Cosinor']['pars'][1][2] for sex in ['male','female']]\n",
    "    ax2.axvspan(pit_acrophase[0]-pit_acrophase_std[0], pit_acrophase[0]+pit_acrophase_std[0],color='lightgreen',ec='lightgreen',lw=2, alpha=0.5)\n",
    "    ax2.axvspan(pit_acrophase[1]-pit_acrophase_std[1], pit_acrophase[1]+pit_acrophase_std[1],color='darkgreen',ec='darkgreen',lw=2, alpha=0.5)\n",
    "    "
   ]
  },
  {
   "cell_type": "code",
   "execution_count": 5,
   "metadata": {},
   "outputs": [],
   "source": [
    "def theory_3_subplot(time, day_length, data1, data2, label1, label2, color1, color2,title):\n",
    "    '''\n",
    "    This function is used to plot effector and pituitary hormone together on a graph with two y-axes\n",
    "    '''\n",
    "    fig = plt.figure(figsize=(5,4))\n",
    "    ax1 = plt.subplot(3,1,1)\n",
    "    ax2 = plt.subplot(3,1,2)\n",
    "    ax3 = plt.subplot(3,1,3)\n",
    "    axes= [ax1,ax2,ax3]\n",
    "    \n",
    "    ln1=ax1.plot(time,day_length,color=def_color[7],linewidth=3.0)\n",
    "    ln2=ax2.plot(time,data1,linestyle='-',color=color1,linewidth=3.0)\n",
    "    ln3=ax3.plot(time,data2,linestyle='-',color=color2,linewidth=3.0)\n",
    "    \n",
    "    ax1.tick_params(axis='y')\n",
    "    ax1.set_ylabel('input u',fontsize=15,fontweight='bold')\n",
    "    ax2.set_ylabel(label1,fontsize=15,fontweight='bold',color=color1)\n",
    "    ax3.set_ylabel(label2,fontsize=15,fontweight='bold',color=color2)\n",
    "    \n",
    "    ax1.set_xlim([0,12])\n",
    "    ax2.set_xlim([0,12])\n",
    "    ax3.set_xlim([0,12])\n",
    "\n",
    "    ax1.xaxis.set_visible(False)    \n",
    "    ax2.xaxis.set_visible(False)    \n",
    "    \n",
    "    ax1.tick_params(axis='y',labelsize =15)\n",
    "    ax1.set_yticks([]) \n",
    "    ax2.set_yticks([]) \n",
    "    ax3.set_yticks([]) \n",
    "    ax3.tick_params(axis='x',labelsize =15)\n",
    "    \n",
    "    ax1.axvline(x=0.7,ls='--',c='k'); ax1.axvline(x=6.7,ls='--',c='k')\n",
    "    ax2.axvline(x=0.7,ls='--',c='k'); ax2.axvline(x=6.7,ls='--',c='k')\n",
    "    ax3.axvline(x=0.7,ls='--',c='k'); ax3.axvline(x=6.7,ls='--',c='k')\n",
    "    ax3.set_xticks(np.arange(0,13,1))\n",
    "    ax3.set_xticklabels([])\n",
    "    ax3.set_xticks(np.arange(0,12,1)+0.5,minor=True)\n",
    "    ax3.set_xticklabels(month_names0[::1], rotation=45,fontsize=12,fontweight='bold',minor =True)\n",
    "\n",
    "    ax1.set_title(title,fontsize=15,fontweight='bold')\n",
    "    plt.show()\n",
    "    \n",
    "def theory_3_subplot_big(axes,time, day_length, data1, data2, label1, label2, color1, color2,title):\n",
    "    '''\n",
    "    This function is used to plot effector and pituitary hormone together on a graph with two y-axes\n",
    "    '''\n",
    "    ln1=ax1.plot(time,day_length,color=def_color[7],linewidth=3.0)\n",
    "    ln2=ax2.plot(time,data1,linestyle='-',color=color1,linewidth=3.0)\n",
    "    ln3=ax3.plot(time,data2,linestyle='-',color=color2,linewidth=3.0)\n",
    "    \n",
    "    ax1.tick_params(axis='y')\n",
    "    ax1.set_ylabel('input u',fontsize=10,fontweight='bold')\n",
    "    ax2.set_ylabel(label1,fontsize=10,fontweight='bold',color=color1)\n",
    "    ax3.set_ylabel(label2,fontsize=10,fontweight='bold',color=color2)\n",
    "    \n",
    "    ax1.set_xlim([0,12])\n",
    "    ax2.set_xlim([0,12])\n",
    "    ax3.set_xlim([0,12])\n",
    "\n",
    "    ax1.xaxis.set_visible(False)    \n",
    "    ax2.xaxis.set_visible(False)    \n",
    "    \n",
    "    ax1.tick_params(axis='y',labelsize =10)\n",
    "    ax1.set_yticks([]) \n",
    "    ax2.set_yticks([]) \n",
    "    ax3.set_yticks([]) \n",
    "    ax3.tick_params(axis='x',labelsize =10)\n",
    "    \n",
    "    ax1.axvline(x=0.7,ls='--',c='k'); ax1.axvline(x=6.7,ls='--',c='k')\n",
    "    ax2.axvline(x=0.7,ls='--',c='k'); ax2.axvline(x=6.7,ls='--',c='k')\n",
    "    ax3.axvline(x=0.7,ls='--',c='k'); ax3.axvline(x=6.7,ls='--',c='k')\n",
    "    ax3.set_xticks(np.arange(0,13,1))\n",
    "    ax3.set_xticklabels([])\n",
    "    ax3.set_xticks(np.arange(0,12,1)+0.5,minor=True)\n",
    "    ax3.set_xticklabels(month_names0[::1], rotation=45,fontsize=10,fontweight='bold',minor =True)\n",
    "\n",
    "    if label1 == 'PRL':\n",
    "        ax3.remove()\n",
    "\n",
    "    ax1.set_title(title,fontsize=12,fontweight='bold')"
   ]
  },
  {
   "cell_type": "markdown",
   "metadata": {},
   "source": [
    "# Simulated equations"
   ]
  },
  {
   "cell_type": "code",
   "execution_count": 6,
   "metadata": {},
   "outputs": [
    {
     "name": "stdout",
     "output_type": "stream",
     "text": [
      "log(2)/30\n"
     ]
    },
    {
     "data": {
      "image/png": "[encoded data removed]",
      "text/plain": [
       "<Figure size 360x288 with 3 Axes>"
      ]
     },
     "metadata": {
      "needs_background": "light"
     },
     "output_type": "display_data"
    },
    {
     "name": "stdout",
     "output_type": "stream",
     "text": [
      "1/29\n"
     ]
    },
    {
     "data": {
      "image/png": "[encoded data removed]",
      "text/plain": [
       "<Figure size 360x288 with 3 Axes>"
      ]
     },
     "metadata": {
      "needs_background": "light"
     },
     "output_type": "display_data"
    },
    {
     "name": "stdout",
     "output_type": "stream",
     "text": [
      "log(2)/35, log(2)/15\n"
     ]
    },
    {
     "data": {
      "image/png": "[encoded data removed]",
      "text/plain": [
       "<Figure size 360x288 with 3 Axes>"
      ]
     },
     "metadata": {
      "needs_background": "light"
     },
     "output_type": "display_data"
    },
    {
     "name": "stdout",
     "output_type": "stream",
     "text": [
      "1/27, 1/17 \n"
     ]
    },
    {
     "data": {
      "image/png": "[encoded data removed]",
      "text/plain": [
       "<Figure size 360x288 with 3 Axes>"
      ]
     },
     "metadata": {
      "needs_background": "light"
     },
     "output_type": "display_data"
    }
   ],
   "source": [
    "'''\n",
    "HPA Model log(2)/30\n",
    "'''\n",
    "print('log(2)/30')\n",
    "############### equations ####################\n",
    "def HPA_fast(y,uapkr):\n",
    "    ## timescale of minutes\n",
    "    a1=1/(7); a2=1/(30); a3=1/(60*1.5); b1=a1   ; b2=a2    ; b3=a3  \n",
    "    u,A,P,k,R  = uapkr\n",
    "    [x1,x2,x3] = y \n",
    "    dy         = np.empty(3)\n",
    "    dy[0] = u*b1/(x3*(1+(x3/k)**3))-a1*x1\n",
    "    dy[1] = b2*x1*P/(1+(x3/k)**3)  -a2*x2\n",
    "    dy[2] = b3*x2*A                -a3*x3\n",
    "    return dy\n",
    "\n",
    "def GetNumericSS_HPA(U,A,P,K,R):\n",
    "    t      = np.linspace(0,60*24,100)\n",
    "    sol    = odeint(lambda y,t:HPA_fast(y,[U,A,P,K,R]),[1,1,1],t)\n",
    "    res    = sol[-1,:]\n",
    "    return res\n",
    "\n",
    "slow_rate = np.log(2)/30; K0 = 4\n",
    "###############################################\n",
    "sim_time  = np.linspace(-21,4*365-1-21,4*365)\n",
    "adrenal   = np.zeros_like(sim_time); adrenal[0]  = 1\n",
    "pituitary = np.zeros_like(sim_time); pituitary[0]= 1\n",
    "K0 = 4; aP = slow_rate; aA = slow_rate; bP = slow_rate; bA = slow_rate\n",
    "\n",
    "for i,t in enumerate(sim_time[:-1]):\n",
    "    A = adrenal[i]; \n",
    "    P = pituitary[i]\n",
    "    u = 2 - daylen(31.77,delta=23.44*np.cos(2*np.pi*((t)/365))*np.pi/180)/12\n",
    "    \n",
    "    x1,x2,x3  = GetNumericSS_HPA(u,A,P,K0,1)\n",
    "    dA = A*(bA*x2-aA); adrenal[i+1]   = A + dA\n",
    "    dP = P*(bP*x1-aP); pituitary[i+1] = P + dP ## x1 activate P\n",
    "    \n",
    "# seperate the fast and slow time scale, simulating again for the last year   \n",
    "res = np.array([GetNumericSS_HPA(1,A,P,K0,1) for A,P in zip(adrenal[-365:],pituitary[-365:])]); \n",
    "res = res/np.mean(res,axis=0);\n",
    "theory_3_subplot(np.arange(365)/365*12,[2 - daylen(31.77,delta=23.44*np.cos(2*np.pi*((t)/365))*np.pi/180)/12 for t in sim_time[-365:]],\n",
    "                 res[:,1],res[:,2],'ACTH','Cortisol',def_color[1],def_color[0],'HPA Model')\n",
    "plt.show()\n",
    "'''\n",
    "HPA Model 1/29\n",
    "'''\n",
    "print('1/29')\n",
    "############### equations ####################\n",
    "def HPA_fast(y,uapkr):\n",
    "    ## timescale of minutes\n",
    "    a1=1/(7); a2=1/(30); a3=1/(60*1.5); b1=a1   ; b2=a2    ; b3=a3  \n",
    "    u,A,P,k,R  = uapkr\n",
    "    [x1,x2,x3] = y \n",
    "    dy         = np.empty(3)\n",
    "    dy[0] = u*b1/(x3*(1+(x3/k)**3))-a1*x1\n",
    "    dy[1] = b2*x1*P/(1+(x3/k)**3)  -a2*x2\n",
    "    dy[2] = b3*x2*A                -a3*x3\n",
    "    return dy\n",
    "\n",
    "def GetNumericSS_HPA(U,A,P,K,R):\n",
    "    t      = np.linspace(0,60*24,100)\n",
    "    sol    = odeint(lambda y,t:HPA_fast(y,[U,A,P,K,R]),[1,1,1],t)\n",
    "    res    = sol[-1,:]\n",
    "    return res\n",
    "\n",
    "slow_rate = 1/29; K0 = 4\n",
    "###############################################\n",
    "sim_time  = np.linspace(-21,4*365-1-21,4*365)\n",
    "adrenal   = np.zeros_like(sim_time); adrenal[0]  = 1\n",
    "pituitary = np.zeros_like(sim_time); pituitary[0]= 1\n",
    "K0 = 4; aP = slow_rate; aA = slow_rate; bP = slow_rate; bA = slow_rate\n",
    "\n",
    "for i,t in enumerate(sim_time[:-1]):\n",
    "    A = adrenal[i]; \n",
    "    P = pituitary[i]\n",
    "    u = 2 - daylen(31.77,delta=23.44*np.cos(2*np.pi*((t)/365))*np.pi/180)/12\n",
    "    \n",
    "    x1,x2,x3  = GetNumericSS_HPA(u,A,P,K0,1)\n",
    "    dA = A*(bA*x2-aA); adrenal[i+1]   = A + dA\n",
    "    dP = P*(bP*x1-aP); pituitary[i+1] = P + dP ## x1 activate P\n",
    "    \n",
    "# seperate the fast and slow time scale, simulating again for the last year   \n",
    "res = np.array([GetNumericSS_HPA(1,A,P,K0,1) for A,P in zip(adrenal[-365:],pituitary[-365:])]); \n",
    "res = res/np.mean(res,axis=0);\n",
    "theory_3_subplot(np.arange(365)/365*12,[2 - daylen(31.77,delta=23.44*np.cos(2*np.pi*((t)/365))*np.pi/180)/12 for t in sim_time[-365:]],\n",
    "                 res[:,1],res[:,2],'ACTH','Cortisol',def_color[1],def_color[0],'HPA Model')\n",
    "\n",
    "plt.show()\n",
    "'''\n",
    "HPA Model parameterscan halflives\n",
    "'''\n",
    "print('log(2)/35, log(2)/15')\n",
    "\n",
    "############### equations ####################\n",
    "def HPA_fast(y,uapkr):\n",
    "    ## timescale of minutes\n",
    "    a1=1/(7); a2=1/(30); a3=1/(60*1.5); b1=a1   ; b2=a2    ; b3=a3  \n",
    "    u,A,P,k,R  = uapkr\n",
    "    [x1,x2,x3] = y \n",
    "    dy         = np.empty(3)\n",
    "    dy[0] = u*b1/(x3*(1+(x3/k)**3))-a1*x1\n",
    "    dy[1] = b2*x1*P/(1+(x3/k)**3)  -a2*x2\n",
    "    dy[2] = b3*x2*A                -a3*x3\n",
    "    return dy\n",
    "\n",
    "def GetNumericSS_HPA(U,A,P,K,R):\n",
    "    t      = np.linspace(0,60*24,100)\n",
    "    sol    = odeint(lambda y,t:HPA_fast(y,[U,A,P,K,R]),[1,1,1],t)\n",
    "    res    = sol[-1,:]\n",
    "    return res\n",
    "\n",
    "###############################################\n",
    "sim_time  = np.linspace(-21,4*365-1-21,4*365)\n",
    "adrenal   = np.zeros_like(sim_time); adrenal[0]  = 1\n",
    "pituitary = np.zeros_like(sim_time); pituitary[0]= 1\n",
    "K0 = 4; aP = np.log(2)/35; aA = np.log(2)/15; bP = np.log(2)/35; bA = np.log(2)/15\n",
    "\n",
    "for i,t in enumerate(sim_time[:-1]):\n",
    "    A = adrenal[i]; \n",
    "    P = pituitary[i]\n",
    "    u = 2 - daylen(31.77,delta=23.44*np.cos(2*np.pi*((t)/365))*np.pi/180)/12\n",
    "    \n",
    "    x1,x2,x3  = GetNumericSS_HPA(u,A,P,K0,1)\n",
    "    dA = A*(bA*x2-aA); adrenal[i+1]   = A + dA\n",
    "    dP = P*(bP*x1-aP); pituitary[i+1] = P + dP ## x1 activate P\n",
    "    \n",
    "# seperate the fast and slow time scale, simulating again for the last year   \n",
    "res = np.array([GetNumericSS_HPA(1,A,P,K0,1) for A,P in zip(adrenal[-365:],pituitary[-365:])]); \n",
    "res = res/np.mean(res,axis=0);\n",
    "theory_3_subplot(np.arange(365)/365*12,[2 - daylen(31.77,delta=23.44*np.cos(2*np.pi*((t)/365))*np.pi/180)/12 for t in sim_time[-365:]],\n",
    "                 res[:,1],res[:,2],'ACTH','Cortisol',def_color[1],def_color[0],'HPA Model') \n",
    "plt.show()\n",
    "\n",
    "'''\n",
    "HPA Model estimated parameters, SI\n",
    "'''\n",
    "print('1/27, 1/17 ')\n",
    "\n",
    "############### equations ####################\n",
    "def HPA_fast(y,uapkr):\n",
    "    ## timescale of minutes\n",
    "    a1=1/(7); a2=1/(30); a3=1/(60*1.5); b1=a1   ; b2=a2    ; b3=a3  \n",
    "    u,A,P,k,R  = uapkr\n",
    "    [x1,x2,x3] = y \n",
    "    dy         = np.empty(3)\n",
    "    dy[0] = u*b1/(x3*(1+(x3/k)**3))-a1*x1\n",
    "    dy[1] = b2*x1*P/(1+(x3/k)**3)  -a2*x2\n",
    "    dy[2] = b3*x2*A                -a3*x3\n",
    "    return dy\n",
    "\n",
    "def GetNumericSS_HPA(U,A,P,K,R):\n",
    "    t      = np.linspace(0,60*24,100)\n",
    "    sol    = odeint(lambda y,t:HPA_fast(y,[U,A,P,K,R]),[1,1,1],t)\n",
    "    res    = sol[-1,:]\n",
    "    return res\n",
    "\n",
    "###############################################\n",
    "sim_time  = np.linspace(-21,4*365-1-21,4*365)\n",
    "adrenal   = np.zeros_like(sim_time); adrenal[0]  = 1\n",
    "pituitary = np.zeros_like(sim_time); pituitary[0]= 1\n",
    "K0 = 4; aP = 1/27; aA = 1/17; bP = 1/27; bA = 1/17\n",
    "\n",
    "for i,t in enumerate(sim_time[:-1]):\n",
    "    A = adrenal[i]; \n",
    "    P = pituitary[i]\n",
    "    u = 2 - daylen(31.77,delta=23.44*np.cos(2*np.pi*((t)/365))*np.pi/180)/12\n",
    "    \n",
    "    x1,x2,x3  = GetNumericSS_HPA(u,A,P,K0,1)\n",
    "    dA = A*(bA*x2-aA); adrenal[i+1]   = A + dA\n",
    "    dP = P*(bP*x1-aP); pituitary[i+1] = P + dP ## x1 activate P\n",
    "    \n",
    "# seperate the fast and slow time scale, simulating again for the last year   \n",
    "res = np.array([GetNumericSS_HPA(1,A,P,K0,1) for A,P in zip(adrenal[-365:],pituitary[-365:])]); \n",
    "res = res/np.mean(res,axis=0);\n",
    "theory_3_subplot(np.arange(365)/365*12,[2 - daylen(31.77,delta=23.44*np.cos(2*np.pi*((t)/365))*np.pi/180)/12 for t in sim_time[-365:]],\n",
    "                 res[:,1],res[:,2],'ACTH','Cortisol',def_color[1],def_color[0],'HPA Model')"
   ]
  },
  {
   "cell_type": "code",
   "execution_count": 5,
   "metadata": {},
   "outputs": [
    {
     "data": {
      "text/plain": [
       "Text(0, 0.5, 'T3')"
      ]
     },
     "execution_count": 5,
     "metadata": {},
     "output_type": "execute_result"
    },
    {
     "data": {
      "image/png": "[encoded data removed]",
      "text/plain": [
       "<Figure size 360x288 with 4 Axes>"
      ]
     },
     "metadata": {
      "needs_background": "light"
     },
     "output_type": "display_data"
    }
   ],
   "source": [
    "'''\n",
    "HPT Model\n",
    "'''\n",
    "def HPT_fast(y,uapkr):\n",
    "    ## timescale of minutes\n",
    "    a1=1/(7); a2=1/(60); a3=1/(60*24*7); b1=a1   ; b2=a2    ; b3=a3  \n",
    "    u,A,P,k,R  = uapkr\n",
    "    [x1,x2,x3] = y \n",
    "    dy         = np.empty(3)\n",
    "    dy[0] = u*b1/x3     -a1*x1\n",
    "    dy[1] = b2*x1*P/x3  -a2*x2\n",
    "    dy[2] = b3*x2*A     -a3*x3\n",
    "    return dy\n",
    "\n",
    "def GetNumericSS_HPT(U,A,P,K,R):\n",
    "    t      = np.linspace(0,60*24,100)\n",
    "    sol    = odeint(lambda y,t:HPT_fast(y,[U,A,P,K,R]),[1,1,1],t)\n",
    "    res    = sol[-1,:]\n",
    "    return res\n",
    "hormones = []\n",
    "slow_rate = np.log(2)/30;\n",
    "sim_time  = np.linspace(-21,4*365-1-21,4*365)\n",
    "thyroid   = np.zeros_like(sim_time); thyroid[0]  = 1\n",
    "pituitary = np.zeros_like(sim_time); pituitary[0]= 1\n",
    "aP = slow_rate; aT = slow_rate; bP = slow_rate; bT = slow_rate\n",
    "t3       = []\n",
    "for i,t in enumerate(sim_time[:-1]):\n",
    "    T = thyroid[i]; \n",
    "    P = pituitary[i]\n",
    "    u = 2 - daylen(31.77,delta=23.44*np.cos(2*np.pi*((t-8*30)/365))*np.pi/180)/12\n",
    "    ui= 2 - daylen(31.77,delta=23.44*np.cos(2*np.pi*((t-7*30)/365)+np.pi)*np.pi/180)/12\n",
    "\n",
    "    x1,x2,x3  = GetNumericSS_HPT(u,T,P,1,1)\n",
    "    dT = T*(bT*x2-aT); thyroid[i+1]   = T + dT\n",
    "    dP = P*(bP/x3-aP); pituitary[i+1] = P + dP ## x1 activate P\n",
    "    t3.append([x3*ui])\n",
    "    hormones.append([x1,x2,x3])\n",
    "    \n",
    "res = np.array(hormones[-365:]); \n",
    "res = res/np.mean(res,axis=0);\n",
    "\n",
    "fig = plt.figure(figsize=(5,4))\n",
    "ax1 = plt.subplot(3,1,1)\n",
    "ax2 = plt.subplot(3,1,2)\n",
    "ax3 = plt.subplot(3,1,3)\n",
    "axes= [ax1,ax2,ax3]\n",
    "\n",
    "theory_3_subplot_big(axes,np.arange(365)/365*12,[2 - daylen(31.77,delta=23.44*np.cos(2*np.pi*((t-8*30)/365))*np.pi/180)/12 for t in sim_time[-365:]],\n",
    "                 res[:,1],res[:,2],'TSH','T4',def_color[1],def_color[0],'HPT Model') \n",
    "\n",
    "ax3b = ax3.twinx()\n",
    "ax3b.plot(np.arange(365)/365*12,np.array(t3/np.mean(t3[-365:]))[-365:],'--',c=def_color[0])\n",
    "ax3b.set_yticks([])\n",
    "ax3b.set_ylabel('T3',c = def_color[0])"
   ]
  },
  {
   "cell_type": "code",
   "execution_count": 6,
   "metadata": {},
   "outputs": [
    {
     "data": {
      "image/png": "[encoded data removed]",
      "text/plain": [
       "<Figure size 360x288 with 3 Axes>"
      ]
     },
     "metadata": {
      "needs_background": "light"
     },
     "output_type": "display_data"
    }
   ],
   "source": [
    "'''\n",
    "HPG Model\n",
    "'''\n",
    "############### equations ####################\n",
    "def HPA_fast(y,uapkr):\n",
    "    ## timescale of minutes\n",
    "    a1=1/(7); a2=1/(30); a3=1/(60*1.5); b1=a1   ; b2=a2    ; b3=a3  \n",
    "    u,A,P,k,R  = uapkr\n",
    "    [x1,x2,x3] = y \n",
    "    dy         = np.empty(3)\n",
    "    dy[0] = u*b1/x3    -a1*x1\n",
    "    dy[1] = b2*x1*P/x3 -a2*x2\n",
    "    dy[2] = b3*x2*A    -a3*x3\n",
    "    return dy\n",
    "\n",
    "def GetNumericSS_HPA(U,A,P,K,R):\n",
    "    t      = np.linspace(0,60*24,100)\n",
    "    sol    = odeint(lambda y,t:HPA_fast(y,[U,A,P,K,R]),[1,1,1],t)\n",
    "    res    = sol[-1,:]\n",
    "    return res\n",
    "\n",
    "slow_rate = np.log(2)/30; K0 = 4\n",
    "###############################################\n",
    "sim_time  = np.linspace(-21,4*365-1-21,4*365)\n",
    "adrenal   = np.zeros_like(sim_time); adrenal[0]  = 1\n",
    "pituitary = np.zeros_like(sim_time); pituitary[0]= 1\n",
    "K0 = 4; aP = slow_rate; aA = slow_rate; bP = slow_rate; bA = slow_rate\n",
    "\n",
    "for i,t in enumerate(sim_time[:-1]):\n",
    "    A = adrenal[i]; \n",
    "    P = pituitary[i]\n",
    "    u = 2 - daylen(31.77,delta=23.44*np.cos(2*np.pi*((t)/365))*np.pi/180)/12\n",
    "    \n",
    "    x1,x2,x3  = GetNumericSS_HPA(u,A,P,K0,1)\n",
    "    dA = A*(bA*x2-aA); adrenal[i+1]   = A + dA\n",
    "    dP = P*(bP*x1-aP); pituitary[i+1] = P + dP ## x1 activate P\n",
    "    \n",
    "# seperate the fast and slow time scale, simulating again for the last year   \n",
    "res = np.array([GetNumericSS_HPA(1,A,P,K0,1) for A,P in zip(adrenal[-365:],pituitary[-365:])]); \n",
    "res = res/np.mean(res,axis=0);\n",
    "theory_3_subplot(np.arange(365)/365*12,[2 - daylen(31.77,delta=23.44*np.cos(2*np.pi*((t)/365))*np.pi/180)/12 for t in sim_time[-365:]],\n",
    "                 res[:,1],res[:,2],'LH/FSH','E/T',def_color[1],def_color[0],'HPG Model') "
   ]
  },
  {
   "cell_type": "code",
   "execution_count": 7,
   "metadata": {},
   "outputs": [
    {
     "data": {
      "image/png": "[encoded data removed]",
      "text/plain": [
       "<Figure size 360x288 with 3 Axes>"
      ]
     },
     "metadata": {
      "needs_background": "light"
     },
     "output_type": "display_data"
    }
   ],
   "source": [
    "'''\n",
    "HP-Growth Model\n",
    "'''\n",
    "############### equations ####################\n",
    "\n",
    "def HPgrowth_fast(y,uapkr):\n",
    "    ## timescale of minutes\n",
    "    a1=1/(7); a2=1/(30); a3=1/(60*1.5); b1=a1   ; b2=a2    ; b3=a3  \n",
    "    u,L,P,k,R  = uapkr\n",
    "    [x1,x2,x3] = y \n",
    "    dy         = np.empty(3)\n",
    "    dy[0] = u*b1/x3     -a1*x1\n",
    "    dy[1] = b2*x1*P/x3  -a2*x2\n",
    "    dy[2] = b3*x2**1*L     -a3*x3\n",
    "    return dy\n",
    "\n",
    "def GetNumericSS_HPgrowth(U,L,P,K,R):\n",
    "    t      = np.linspace(0,60*24,100)\n",
    "    sol    = odeint(lambda y,t:HPgrowth_fast(y,[U,L,P,K,R]),[1,1,1],t)\n",
    "    res    = sol[-1,:]\n",
    "    return res\n",
    "\n",
    "slow_rate = np.log(2)/30\n",
    "###############################################\n",
    "sim_time  = np.linspace(-21,4*365-1-21,4*365)\n",
    "liver     = np.zeros_like(sim_time); liver[0]  = 1\n",
    "pituitary = np.zeros_like(sim_time); pituitary[0]= 1\n",
    "K0 = 4; aP = slow_rate; aL = slow_rate/10; bP = slow_rate; bL = slow_rate/10\n",
    "\n",
    "for i,t in enumerate(sim_time[:-1]):\n",
    "    L = liver[i]; \n",
    "    P = pituitary[i]\n",
    "    u = 2 - daylen(31.77,delta=23.44*np.cos(2*np.pi*((t)/365))*np.pi/180)/12\n",
    "    \n",
    "    x1,x2,x3  = GetNumericSS_HPgrowth(u,L,P,1,1)\n",
    "    dL = L*(bA*x2-aL); liver[i+1]     = L + dL\n",
    "    dP = P*(bP*x1-aP); pituitary[i+1] = P + dP ## x1 activate P\n",
    "    \n",
    "# seperate the fast and slow time scale, simulating again for the last year   \n",
    "res = np.array([GetNumericSS_HPgrowth(1,L,P,K0,1) for L,P in zip(liver[-365:],pituitary[-365:])]); \n",
    "res = res/np.mean(res,axis=0);\n",
    "theory_3_subplot(np.arange(365)/365*12,[2 - daylen(31.77,delta=23.44*np.cos(2*np.pi*((t)/365))*np.pi/180)/12 for t in sim_time[-365:]],\n",
    "                 res[:,1],res[:,2],'GH','IGF-I',def_color[1],def_color[0],'HP-growth Model') "
   ]
  },
  {
   "cell_type": "code",
   "execution_count": 8,
   "metadata": {},
   "outputs": [
    {
     "data": {
      "image/png": "[encoded data removed]",
      "text/plain": [
       "<Figure size 360x288 with 3 Axes>"
      ]
     },
     "metadata": {
      "needs_background": "light"
     },
     "output_type": "display_data"
    }
   ],
   "source": [
    "'''\n",
    "Prolactin Model\n",
    "'''\n",
    "############### equations ####################\n",
    "\n",
    "def HPP_fast(y,uapkr):\n",
    "    ## timescale of minutes\n",
    "    a1=1/(7); a2=1/(17); b1=a1   ; b2=a2\n",
    "    u,A,P,k,R  = uapkr\n",
    "    [x1,x2] = y \n",
    "    dy         = np.empty(2)\n",
    "    dy[0] = u*b1/x2     -a1*x1\n",
    "    dy[1] = b2*x1*P     -a2*x2\n",
    "    return dy\n",
    "\n",
    "def GetNumericSS_HPP(U,A,P,K,R):\n",
    "    t      = np.linspace(0,60*24,100)\n",
    "    sol    = odeint(lambda y,t:HPP_fast(y,[U,A,P,K,R]),[1,1],t)\n",
    "    res    = sol[-1,:]\n",
    "    return res\n",
    "\n",
    "slow_rate = np.log(2)/10\n",
    "###############################################\n",
    "sim_time  = np.linspace(-21,4*365-1-21,4*365)\n",
    "pituitary = np.zeros_like(sim_time); pituitary[0]= 1\n",
    "aP = np.log(2)/20; bP = np.log(2)/20; \n",
    "\n",
    "for i,t in enumerate(sim_time[:-1]):\n",
    "    P = pituitary[i]\n",
    "    u = 2 - daylen(31.77,delta=23.44*np.cos(2*np.pi*((t-8*30)/365))*np.pi/180)/12\n",
    "    x1,x2  = GetNumericSS_HPP(u,1,P,1,1)\n",
    "    dP = P*(bP*x1-aP); pituitary[i+1] = P + dP ## x1 activate P\n",
    "    \n",
    "# seperate the fast and slow time scale, simulating again for the last year \n",
    "res = np.array([GetNumericSS_HPP(1,1,P,1,1) for P in pituitary[-365:]])\n",
    "res = res/np.mean(res,axis=0)\n",
    "theory_3_subplot(np.arange(365)/365*12,[2 - daylen(31.77,delta=23.44*np.cos(2*np.pi*((t-8*30)/365))*np.pi/180)/12 for t in sim_time[:365]],\n",
    "                 res[:,1],res[:,0],'PRL','TRH/DA',def_color[1],def_color[2],'PRL Model') "
   ]
  },
  {
   "cell_type": "code",
   "execution_count": 7,
   "metadata": {},
   "outputs": [],
   "source": [
    "def HPA_graph_above_axe(ax):\n",
    "    ax.imshow(mpimg.imread('../figures/ppt/HPX/HPA.PNG'))\n",
    "    ax.axis('off')    \n",
    "def HPT_graph_above_axe(ax):\n",
    "    ax.imshow(mpimg.imread('../figures/ppt/HPX/HPT.PNG'))\n",
    "    ax.axis('off')\n",
    "def HPG_graph_above_axe(ax):\n",
    "    ax.imshow(mpimg.imread('../figures/ppt/HPX/HPG.PNG'))\n",
    "    ax.axis('off')\n",
    "def HPL_graph_above_axe(ax):\n",
    "    ax.imshow(mpimg.imread('../figures/ppt/HPX/HPL.PNG'))\n",
    "    ax.axis('off')\n",
    "def HPgrowth_graph_above_axe(ax):\n",
    "    ax.imshow(mpimg.imread('../figures/ppt/HPX/HPgrowth.PNG'))\n",
    "    ax.axis('off')"
   ]
  },
  {
   "cell_type": "markdown",
   "metadata": {},
   "source": [
    "# All in one plot"
   ]
  },
  {
   "cell_type": "code",
   "execution_count": 8,
   "metadata": {
    "scrolled": false
   },
   "outputs": [
    {
     "data": {
      "image/png": "[encoded data removed]",
      "text/plain": [
       "<Figure size 1152x288 with 15 Axes>"
      ]
     },
     "metadata": {
      "needs_background": "light"
     },
     "output_type": "display_data"
    }
   ],
   "source": [
    "'''\n",
    "-------------------HPA Model--------------------\n",
    "'''\n",
    "fig = plt.figure(figsize=(16,4))\n",
    "\n",
    "ax1 = plt.subplot2grid((3, 5), (0, 0)); ax1.text(-0.02, 1.35, 'A', transform=ax1.transAxes,fontsize = 30, fontweight='bold', va='top', ha='right')\n",
    "ax2 = plt.subplot2grid((3, 5), (1, 0))\n",
    "ax3 = plt.subplot2grid((3, 5), (2, 0))\n",
    "axes= [ax1,ax2,ax3]\n",
    "def HPA_fast(y,uapkr):\n",
    "    ## timescale of minutes\n",
    "    a1=1/(7); a2=1/(30); a3=1/(60*1.5); b1=a1   ; b2=a2    ; b3=a3  \n",
    "    u,A,P,k,R  = uapkr\n",
    "    [x1,x2,x3] = y \n",
    "    dy         = np.empty(3)\n",
    "    dy[0] = u*b1/(x3*(1+(x3/k)**3))-a1*x1\n",
    "    dy[1] = b2*x1*P/(1+(x3/k)**3)  -a2*x2\n",
    "    dy[2] = b3*x2*A                -a3*x3\n",
    "    return dy\n",
    "\n",
    "def GetNumericSS_HPA(U,A,P,K,R):\n",
    "    t      = np.linspace(0,60*24,100)\n",
    "    sol    = odeint(lambda y,t:HPA_fast(y,[U,A,P,K,R]),[1,1,1],t)\n",
    "    res    = sol[-1,:]\n",
    "    return res\n",
    "\n",
    "slow_rate = np.log(2)/30; K0 = 4\n",
    "sim_time  = np.linspace(-21,4*365-1-21,4*365)\n",
    "adrenal   = np.zeros_like(sim_time); adrenal[0]  = 1\n",
    "pituitary = np.zeros_like(sim_time); pituitary[0]= 1\n",
    "K0 = 4; aP = slow_rate; aA = slow_rate; bP = slow_rate; bA = slow_rate\n",
    "\n",
    "for i,t in enumerate(sim_time[:-1]):\n",
    "    A = adrenal[i]; \n",
    "    P = pituitary[i]\n",
    "    u = 2 - daylen(31.77,delta=23.44*np.cos(2*np.pi*((t)/365))*np.pi/180)/12\n",
    "    \n",
    "    x1,x2,x3  = GetNumericSS_HPA(u,A,P,K0,1)\n",
    "    dA = A*(bA*x2-aA); adrenal[i+1]   = A + dA\n",
    "    dP = P*(bP*x1-aP); pituitary[i+1] = P + dP ## x1 activate P\n",
    "    \n",
    "# seperate the fast and slow time scale, simulating again for the last year   \n",
    "res = np.array([GetNumericSS_HPA(1,A,P,K0,1) for A,P in zip(adrenal[-365:],pituitary[-365:])]); \n",
    "res = res/np.mean(res,axis=0);\n",
    "theory_3_subplot_big(axes,np.arange(365)/365*12,[2 - daylen(31.77,delta=23.44*np.cos(2*np.pi*((t)/365))*np.pi/180)/12 for t in sim_time[-365:]],\n",
    "                 res[:,1],res[:,2],'ACTH','Cortisol',def_color[1],def_color[0],'HPA Model') \n",
    "\n",
    "HPA_phase_axspan(ax2,ax3)\n",
    "'''\n",
    "-------------------HPG Model--------------------\n",
    "'''\n",
    "ax1 = plt.subplot2grid((3, 5), (0, 1)); ax1.text(-0.02, 1.35, 'B', transform=ax1.transAxes,fontsize = 30, fontweight='bold', va='top', ha='right')\n",
    "ax2 = plt.subplot2grid((3, 5), (1, 1))\n",
    "ax3 = plt.subplot2grid((3, 5), (2, 1))\n",
    "axes= [ax1,ax2,ax3]\n",
    "def HPA_fast(y,uapkr):\n",
    "    ## timescale of minutes\n",
    "    a1=1/(7); a2=1/(30); a3=1/(60*1.5); b1=a1   ; b2=a2    ; b3=a3  \n",
    "    u,A,P,k,R  = uapkr\n",
    "    [x1,x2,x3] = y \n",
    "    dy         = np.empty(3)\n",
    "    dy[0] = u*b1/x3    -a1*x1\n",
    "    dy[1] = b2*x1*P/x3 -a2*x2\n",
    "    dy[2] = b3*x2*A    -a3*x3\n",
    "    return dy\n",
    "\n",
    "def GetNumericSS_HPA(U,A,P,K,R):\n",
    "    t      = np.linspace(0,60*24,100)\n",
    "    sol    = odeint(lambda y,t:HPA_fast(y,[U,A,P,K,R]),[1,1,1],t)\n",
    "    res    = sol[-1,:]\n",
    "    return res\n",
    "\n",
    "slow_rate = np.log(2)/30; K0 = 4\n",
    "sim_time  = np.linspace(-21,4*365-1-21,4*365)\n",
    "adrenal   = np.zeros_like(sim_time); adrenal[0]  = 1\n",
    "pituitary = np.zeros_like(sim_time); pituitary[0]= 1\n",
    "K0 = 4; aP = slow_rate; aA = slow_rate; bP = slow_rate; bA = slow_rate\n",
    "\n",
    "for i,t in enumerate(sim_time[:-1]):\n",
    "    A = adrenal[i]; \n",
    "    P = pituitary[i]\n",
    "    u = 2 - daylen(31.77,delta=23.44*np.cos(2*np.pi*((t)/365))*np.pi/180)/12\n",
    "    \n",
    "    x1,x2,x3  = GetNumericSS_HPA(u,A,P,K0,1)\n",
    "    dA = A*(bA*x2-aA); adrenal[i+1]   = A + dA\n",
    "    dP = P*(bP*x1-aP); pituitary[i+1] = P + dP ## x1 activate P\n",
    "    \n",
    "# seperate the fast and slow time scale, simulating again for the last year   \n",
    "res = np.array([GetNumericSS_HPA(1,A,P,K0,1) for A,P in zip(adrenal[-365:],pituitary[-365:])]); \n",
    "res = res/np.mean(res,axis=0);\n",
    "theory_3_subplot_big(axes,np.arange(365)/365*12,[2 - daylen(31.77,delta=23.44*np.cos(2*np.pi*((t)/365))*np.pi/180)/12 for t in sim_time[-365:]],\n",
    "                 res[:,1],res[:,2],'LH/FSH','E/T',def_color[1],def_color[0],'HPG Model') \n",
    "HPG_phase_axspan(ax2,ax3)\n",
    "\n",
    "'''\n",
    "-------------------HP-growth Model--------------------\n",
    "'''\n",
    "ax1 = plt.subplot2grid((3, 5), (0, 2)); ax1.text(-0.02, 1.35, 'C', transform=ax1.transAxes,fontsize = 30, fontweight='bold', va='top', ha='right')\n",
    "ax2 = plt.subplot2grid((3, 5), (1, 2))\n",
    "ax3 = plt.subplot2grid((3, 5), (2, 2))\n",
    "axes= [ax1,ax2,ax3]\n",
    "def HPgrowth_fast(y,uapkr):\n",
    "    ## timescale of minutes\n",
    "    a1=1/(7); a2=1/(30); a3=1/(60*1.5); b1=a1   ; b2=a2    ; b3=a3  \n",
    "    u,L,P,k,R  = uapkr\n",
    "    [x1,x2,x3] = y \n",
    "    dy         = np.empty(3)\n",
    "    dy[0] = u*b1/x3     -a1*x1\n",
    "    dy[1] = b2*x1*P/x3  -a2*x2\n",
    "    dy[2] = b3*x2**1*L     -a3*x3\n",
    "    return dy\n",
    "\n",
    "def GetNumericSS_HPgrowth(U,L,P,K,R):\n",
    "    t      = np.linspace(0,60*24,100)\n",
    "    sol    = odeint(lambda y,t:HPgrowth_fast(y,[U,L,P,K,R]),[1,1,1],t)\n",
    "    res    = sol[-1,:]\n",
    "    return res\n",
    "\n",
    "slow_rate = np.log(2)/30\n",
    "sim_time  = np.linspace(-21,4*365-1-21,4*365)\n",
    "liver     = np.zeros_like(sim_time); liver[0]  = 1\n",
    "pituitary = np.zeros_like(sim_time); pituitary[0]= 1\n",
    "K0 = 4; aP = slow_rate; aL = slow_rate/10; bP = slow_rate; bL = slow_rate/10\n",
    "\n",
    "for i,t in enumerate(sim_time[:-1]):\n",
    "    L = liver[i]; \n",
    "    P = pituitary[i]\n",
    "    u = 2 - daylen(31.77,delta=23.44*np.cos(2*np.pi*((t)/365))*np.pi/180)/12\n",
    "    \n",
    "    x1,x2,x3  = GetNumericSS_HPgrowth(u,L,P,1,1)\n",
    "    dL = L*(bA*x2-aL); liver[i+1]     = L + dL\n",
    "    dP = P*(bP*x1-aP); pituitary[i+1] = P + dP ## x1 activate P\n",
    "    \n",
    "# seperate the fast and slow time scale, simulating again for the last year   \n",
    "res = np.array([GetNumericSS_HPgrowth(1,L,P,K0,1) for L,P in zip(liver[-365:],pituitary[-365:])]); \n",
    "res = res/np.mean(res,axis=0);\n",
    "theory_3_subplot_big(axes,np.arange(365)/365*12,[2 - daylen(31.77,delta=23.44*np.cos(2*np.pi*((t)/365))*np.pi/180)/12 for t in sim_time[-365:]],\n",
    "                 res[:,1],res[:,2],'GH','IGF-I',def_color[1],def_color[0],'HP-growth Model') \n",
    "\n",
    "HPgrowth_phase_axspan(ax2,ax3)\n",
    "\n",
    "'''\n",
    "-------------------HPT Model--------------------\n",
    "'''\n",
    "ax1 = plt.subplot2grid((3, 5), (0, 3)); ax1.text(-0.02, 1.35, 'D', transform=ax1.transAxes,fontsize = 30, fontweight='bold', va='top', ha='right')\n",
    "ax2 = plt.subplot2grid((3, 5), (1, 3))\n",
    "ax3 = plt.subplot2grid((3, 5), (2, 3))\n",
    "axes= [ax1,ax2,ax3]\n",
    "\n",
    "'''\n",
    "HPT Model\n",
    "'''\n",
    "def HPT_fast(y,uapkr):\n",
    "    ## timescale of minutes\n",
    "    a1=1/(7); a2=1/(60); a3=1/(60*24*7); b1=a1   ; b2=a2    ; b3=a3  \n",
    "    u,A,P,k,R  = uapkr\n",
    "    [x1,x2,x3] = y \n",
    "    dy         = np.empty(3)\n",
    "    dy[0] = u*b1/x3     -a1*x1\n",
    "    dy[1] = b2*x1*P/x3  -a2*x2\n",
    "    dy[2] = b3*x2*A     -a3*x3\n",
    "    return dy\n",
    "\n",
    "def GetNumericSS_HPT(U,A,P,K,R):\n",
    "    t      = np.linspace(0,60*24,100)\n",
    "    sol    = odeint(lambda y,t:HPT_fast(y,[U,A,P,K,R]),[1,1,1],t)\n",
    "    res    = sol[-1,:]\n",
    "    return res\n",
    "\n",
    "slow_rate = np.log(2)/30;\n",
    "sim_time  = np.linspace(-21,4*365-1-21,4*365)\n",
    "thyroid   = np.zeros_like(sim_time); thyroid[0]  = 1\n",
    "pituitary = np.zeros_like(sim_time); pituitary[0]= 1\n",
    "aP = slow_rate; aT = slow_rate; bP = slow_rate; bT = slow_rate\n",
    "t3       = []\n",
    "hormones = []\n",
    "for i,t in enumerate(sim_time[:-1]):\n",
    "    T = thyroid[i]; \n",
    "    P = pituitary[i]\n",
    "    u = 2 - daylen(31.77,delta=23.44*np.cos(2*np.pi*((t-8*30)/365))*np.pi/180)/12\n",
    "    ui= 2 - daylen(31.77,delta=23.44*np.cos(2*np.pi*((t-7*30)/365)+np.pi)*np.pi/180)/12\n",
    "\n",
    "    x1,x2,x3  = GetNumericSS_HPT(u,T,P,1,1)\n",
    "    dT = T*(bT*x2-aT); thyroid[i+1]   = T + dT\n",
    "    dP = P*(bP/x3-aP); pituitary[i+1] = P + dP ## x1 activate P\n",
    "    t3.append([x3*ui])\n",
    "    hormones.append([x1,x2,x3])\n",
    "    \n",
    "res = np.array(hormones[-365:]); \n",
    "res = res/np.mean(res,axis=0);\n",
    "theory_3_subplot_big(axes,np.arange(365)/365*12,[2 - daylen(31.77,delta=23.44*np.cos(2*np.pi*((t-8*30)/365))*np.pi/180)/12 for t in sim_time[-365:]],\n",
    "                 res[:,1],res[:,2],'TSH','T4',def_color[1],def_color[0],'HPT Model') \n",
    "HPT_phase_axspan(ax2,ax3)\n",
    "\n",
    "ax3b = ax3.twinx()\n",
    "ax3b.plot(np.arange(365)/365*12,np.array(t3/np.mean(t3[-365:]))[-365:],c='c')\n",
    "ax3b.set_yticks([])\n",
    "ax3b.set_ylabel('T3',c='c')\n",
    "\n",
    "'''\n",
    "-------------------HP-PRL Model--------------------\n",
    "'''\n",
    "ax1 = plt.subplot2grid((3, 5), (0, 4));  ax1.text(-0.02, 1.35, 'E', transform=ax1.transAxes,fontsize = 30, fontweight='bold', va='top', ha='right')\n",
    "ax2 = plt.subplot2grid((3, 5), (1, 4))\n",
    "ax3 = plt.subplot2grid((3, 5), (2, 4))\n",
    "axes= [ax1,ax2,ax3]\n",
    "\n",
    "def HPP_fast(y,uapkr):\n",
    "    ## timescale of minutes\n",
    "    a1=1/(7); a2=1/(17); b1=a1   ; b2=a2\n",
    "    u,A,P,k,R  = uapkr\n",
    "    [x1,x2] = y \n",
    "    dy         = np.empty(2)\n",
    "    dy[0] = u*b1/x2     -a1*x1\n",
    "    dy[1] = b2*x1*P     -a2*x2\n",
    "    return dy\n",
    "\n",
    "def GetNumericSS_HPP(U,A,P,K,R):\n",
    "    t      = np.linspace(0,60*24,100)\n",
    "    sol    = odeint(lambda y,t:HPP_fast(y,[U,A,P,K,R]),[1,1],t)\n",
    "    res    = sol[-1,:]\n",
    "    return res\n",
    "\n",
    "slow_rate = np.log(2)/10\n",
    "sim_time  = np.linspace(-21,4*365-1-21,4*365)\n",
    "pituitary = np.zeros_like(sim_time); pituitary[0]= 1\n",
    "aP = slow_rate; bP = slow_rate; \n",
    "\n",
    "for i,t in enumerate(sim_time[:-1]):\n",
    "    P = pituitary[i]\n",
    "    u = 2 - daylen(31.77,delta=23.44*np.cos(2*np.pi*((t-8*30)/365))*np.pi/180)/12\n",
    "    ui= 2 - daylen(31.77,delta=23.44*np.cos(2*np.pi*((t-7*30)/365)+np.pi)*np.pi/180)/12\n",
    "    x1,x2  = GetNumericSS_HPP(u,1,P,1,1)\n",
    "    dP = P*(bP*x1-aP); pituitary[i+1] = P + dP ## x1 activate P\n",
    "    \n",
    "# seperate the fast and slow time scale, simulating again for the last year \n",
    "res = np.array([GetNumericSS_HPP(1,1,P,1,1) for P in pituitary[-365:]])\n",
    "res = res/np.mean(res,axis=0)\n",
    "theory_3_subplot_big(axes,np.arange(365)/365*12,[2 - daylen(31.77,delta=23.44*np.cos(2*np.pi*((t-8*30)/365))*np.pi/180)/12 for t in sim_time[:365]],\n",
    "                 res[:,1],res[:,0],'PRL','TRH/DA',def_color[1],def_color[2],'PRL Model')\n",
    "\n",
    "HPL_phase_axspan(ax2,ax3)\n",
    "plt.tight_layout()\n",
    "plt.savefig('../figures/Seasonality11022020/SI_HPX_models_1102.pdf',bbox_inches='tight',dpi=600)\n",
    "plt.show()"
   ]
  },
  {
   "cell_type": "code",
   "execution_count": null,
   "metadata": {},
   "outputs": [],
   "source": [
    "'''\n",
    "Seneitivity of HPA model to hormonal production and removal rate.\n",
    "'''\n",
    "summery = []\n",
    "for p1 in [0.5,1,2]:\n",
    "    for p2 in [0.5,1,2]:\n",
    "        for p3 in [0.5,1,2]:    \n",
    "            ############### equations ####################\n",
    "            def HPA_fast(y,uapkr):\n",
    "                ## timescale of minutes\n",
    "                a1=p1*1/(7); a2=p2*1/(30); a3=p3*1/(60*1.5); b1=a1 ; b2=a2 ; b3=a3  \n",
    "                u,A,P,k,R  = uapkr\n",
    "                [x1,x2,x3] = y \n",
    "                dy         = np.empty(3)\n",
    "                dy[0] = u*b1/(x3*(1+(x3/k)**3))-a1*x1\n",
    "                dy[1] = b2*x1*P/(1+(x3/k)**3)  -a2*x2\n",
    "                dy[2] = b3*x2*A                -a3*x3\n",
    "                return dy\n",
    "\n",
    "            def GetNumericSS_HPA(U,A,P,K,R):\n",
    "                t      = np.linspace(0,60*24,100)\n",
    "                sol    = odeint(lambda y,t:HPA_fast(y,[U,A,P,K,R]),[1,1,1],t)\n",
    "                res    = sol[-1,:]\n",
    "                return res\n",
    "\n",
    "            slow_rate = np.log(2)/30; K0 = 4\n",
    "            ###############################################\n",
    "            sim_time  = np.linspace(-21,4*365-1-21,4*365)\n",
    "            adrenal   = np.zeros_like(sim_time); adrenal[0]  = 1\n",
    "            pituitary = np.zeros_like(sim_time); pituitary[0]= 1\n",
    "            K0 = 4; aP = slow_rate; aA = slow_rate; bP = slow_rate; bA = slow_rate\n",
    "\n",
    "            for i,t in enumerate(sim_time[:-1]):\n",
    "                A = adrenal[i]; \n",
    "                P = pituitary[i]\n",
    "                u = 2 - daylen(31.77,delta=23.44*np.cos(2*np.pi*((t)/365))*np.pi/180)/12\n",
    "\n",
    "                x1,x2,x3  = GetNumericSS_HPA(u,A,P,K0,1)\n",
    "                dA = A*(bA*x2-aA); adrenal[i+1]   = A + dA\n",
    "                dP = P*(bP*x1-aP); pituitary[i+1] = P + dP ## x1 activate P\n",
    "\n",
    "            # seperate the fast and slow time scale, simulating again for the last year   \n",
    "            res = np.array([GetNumericSS_HPA(1,A,P,K0,1) for A,P in zip(adrenal[-365:],pituitary[-365:])]); \n",
    "            res = res/np.mean(res,axis=0);\n",
    "            summery.append([p1,p2,p3,res[:,2].argmax()])\n",
    "display(summery)"
   ]
  },
  {
   "cell_type": "code",
   "execution_count": 63,
   "metadata": {},
   "outputs": [
    {
     "data": {
      "image/png": "[encoded data removed]",
      "text/plain": [
       "<Figure size 432x288 with 4 Axes>"
      ]
     },
     "metadata": {
      "needs_background": "light"
     },
     "output_type": "display_data"
    },
    {
     "data": {
      "image/png": "[encoded data removed]",
      "text/plain": [
       "<Figure size 432x288 with 1 Axes>"
      ]
     },
     "metadata": {
      "needs_background": "light"
     },
     "output_type": "display_data"
    },
    {
     "data": {
      "image/png": "[encoded data removed]",
      "text/plain": [
       "<Figure size 432x288 with 1 Axes>"
      ]
     },
     "metadata": {
      "needs_background": "light"
     },
     "output_type": "display_data"
    },
    {
     "data": {
      "image/png": "[encoded data removed]",
      "text/plain": [
       "<Figure size 432x288 with 4 Axes>"
      ]
     },
     "metadata": {
      "needs_background": "light"
     },
     "output_type": "display_data"
    }
   ],
   "source": [
    "'''\n",
    "Additional HPT Model, with israel temperature\n",
    "'''\n",
    "############### equations ####################\n",
    "def HPT_fast(y,uapkr):\n",
    "    ## timescale of minutes\n",
    "    a1=1/(7); a2=1/(60); a3=1/(60*24*7); b1=a1   ; b2=a2    ; b3=a3  \n",
    "    u,A,P,k,R  = uapkr\n",
    "    [x1,x2,x3] = y \n",
    "    dy         = np.empty(3)\n",
    "    dy[0] = u*b1/x3     -a1*x1\n",
    "    dy[1] = b2*x1*P/x3  -a2*x2\n",
    "    dy[2] = b3*x2*A     -a3*x3\n",
    "    return dy\n",
    "\n",
    "def GetNumericSS_HPT(U,A,P,K,R):\n",
    "    t      = np.linspace(0,60*24,100)\n",
    "    sol    = odeint(lambda y,t:HPT_fast(y,[U,A,P,K,R]),[1,1,1],t)\n",
    "    res    = sol[-1,:]\n",
    "    return res\n",
    "\n",
    "slow_rate = np.log(2)/30;\n",
    "###############################################\n",
    "sim_time  = np.linspace(-21,4*365-1-21,4*365)\n",
    "thyroid   = np.zeros_like(sim_time); thyroid[0]  = 1\n",
    "pituitary = np.zeros_like(sim_time); pituitary[0]= 1\n",
    "aP = slow_rate; aT = slow_rate; bP = slow_rate; bT = slow_rate\n",
    "hormones = []\n",
    "t3       = []\n",
    "for i,t in enumerate(sim_time[:-1]):\n",
    "    T = thyroid[i]; \n",
    "    P = pituitary[i]\n",
    "    u = 2 - daylen(31.77,delta=23.44*np.cos(2*np.pi*((t-8*30)/365))*np.pi/180)/12\n",
    "    ui= 2 - daylen(31.77,delta=23.44*np.cos(2*np.pi*((t-1*30)/365))*np.pi/180)/12\n",
    "\n",
    "    x1,x2,x3  = GetNumericSS_HPT(u,T,P,1,1)\n",
    "    dT = T*(bT*x2-aT); thyroid[i+1]   = T + dT\n",
    "    dP = P*(bP/x3-aP); pituitary[i+1] = P + dP ## x1 activate P\n",
    "    t3.append([x3*ui])\n",
    "    hormones.append([x1,x2,x3])\n",
    "    \n",
    "res = np.array(hormones[-365:]); \n",
    "res = res/np.mean(res,axis=0);\n",
    "\n",
    "ax1 = plt.subplot2grid((3, 1), (0, 0))\n",
    "ax2 = plt.subplot2grid((3, 1), (1, 0))\n",
    "ax3 = plt.subplot2grid((3, 1), (2, 0))\n",
    "axes= [ax1,ax2,ax3]\n",
    "\n",
    "theory_3_subplot_big(axes,np.arange(365)/365*12,[2 - daylen(31.77,delta=23.44*np.cos(2*np.pi*((t-8*30)/365))*np.pi/180)/12 for t in sim_time[-365:]],\n",
    "                 res[:,1],res[:,2],'TSH','T4',def_color[1],def_color[0],'HPT Model') \n",
    "HPT_phase_axspan(ax2,ax3)\n",
    "\n",
    "ax3b = ax3.twinx()\n",
    "ax3b.plot(np.arange(365)/365*12,np.array(t3/np.mean(t3[-365:]))[-365:],'--',c=def_color[0])\n",
    "ax3b.set_yticks([])\n",
    "plt.show()\n",
    "\n",
    "israel_temp = [14,11,14,16,21,25,27,29,29,28,26,19,14,11,14,16,21,25,27,29,29,28,26,19,14,11,14,16,21,25,27,29,29,28,26,19,14]\n",
    "x = np.linspace(0, 36, num=37, endpoint=True)\n",
    "f = interp1d(x, israel_temp,kind='cubic')\n",
    "xnew = np.linspace(0, 36, num=365*3, endpoint=True)\n",
    "ut = f(xnew) # two years, started at Dec 15\n",
    "ut = np.roll(ut,-6) # two years, starts at Dec21\n",
    "ut = ut[365:-365] # one year, starts at Dec0, no jerk in u\n",
    "\n",
    "def daytemp(t):\n",
    "    t= int(t)\n",
    "    if t<0:\n",
    "        t = t+365 \n",
    "    if t >364:\n",
    "        qun = t//365\n",
    "    else:\n",
    "        qun = 0 \n",
    "    t2 = t-qun*365 \n",
    "    return ut[t2]\n",
    "\n",
    "sim_time  = np.linspace(-21,365-1-21,365)\n",
    "ax3 = plt.subplot(111)\n",
    "ax3.plot(np.arange(365)/365*12,[daytemp(int(t)) for t in sim_time])\n",
    "ax3.axvline(x=0.7,ls='--',c='k'); ax3.axvline(x=6.7,ls='--',c='k')\n",
    "ax3.set_xticks(np.arange(0,13,1))\n",
    "ax3.set_xticklabels([])\n",
    "ax3.set_xticks(np.arange(0,12,1)+0.5,minor=True)\n",
    "ax3.set_xticklabels(month_names0[::1], rotation=45,fontsize=10,fontweight='bold',minor =True)\n",
    "ax3.set_xlim([0,12])\n",
    "ax3.set_ylabel('annual israel temperature')\n",
    "plt.show()\n",
    "\n",
    "yearly_mean = np.mean([daytemp(int(t)) for t in sim_time])\n",
    "temp_input  = [daytemp(int(t)) for t in sim_time]/yearly_mean\n",
    "sim_time    = np.linspace(-21,365-1-21,365)\n",
    "ax3 = plt.subplot(111)\n",
    "ax3.plot(np.arange(365)/365*12,temp_input)\n",
    "ax3.axvline(x=0.7,ls='--',c='k'); ax3.axvline(x=6.7,ls='--',c='k')\n",
    "ax3.set_xticks(np.arange(0,13,1))\n",
    "ax3.set_xticklabels([])\n",
    "ax3.set_xticks(np.arange(0,12,1)+0.5,minor=True)\n",
    "ax3.set_xticklabels(month_names0[::1], rotation=45,fontsize=10,fontweight='bold',minor =True)\n",
    "ax3.set_xlim([0,12])\n",
    "ax3.set_ylabel('modeled input')\n",
    "plt.show()\n",
    "\n",
    "'''\n",
    "HPT Model\n",
    "'''\n",
    "############### equations ####################\n",
    "def HPT_fast(y,uapkr):\n",
    "    ## timescale of minutes\n",
    "    a1=1/(7); a2=1/(60); a3=1/(60*24*7); b1=a1   ; b2=a2    ; b3=a3  \n",
    "    u,A,P,k,R  = uapkr\n",
    "    [x1,x2,x3] = y \n",
    "    dy         = np.empty(3)\n",
    "    dy[0] = u*b1/x3     -a1*x1\n",
    "    dy[1] = b2*x1*P/x3  -a2*x2\n",
    "    dy[2] = b3*x2*A     -a3*x3\n",
    "    return dy\n",
    "\n",
    "def GetNumericSS_HPT(U,A,P,K,R):\n",
    "    t      = np.linspace(0,60*24,100)\n",
    "    sol    = odeint(lambda y,t:HPT_fast(y,[U,A,P,K,R]),[1,1,1],t)\n",
    "    res    = sol[-1,:]\n",
    "    return res\n",
    "\n",
    "slow_rate = np.log(2)/30;\n",
    "###############################################\n",
    "sim_time  = np.linspace(-21,4*365-1-21,4*365)\n",
    "thyroid   = np.zeros_like(sim_time); thyroid[0]  = 1\n",
    "pituitary = np.zeros_like(sim_time); pituitary[0]= 1\n",
    "aP = slow_rate; aT = slow_rate; bP =slow_rate; bT = slow_rate\n",
    "hormones = []\n",
    "t3       = []\n",
    "for i,t in enumerate(sim_time[:-1]):\n",
    "    T = thyroid[i]; \n",
    "    P = pituitary[i]\n",
    "    u = daytemp(t)/yearly_mean\n",
    "\n",
    "    x1,x2,x3  = GetNumericSS_HPT(u,T,P,1,1)\n",
    "    dT = T*(bT*x2-aT); thyroid[i+1]   = T + dT\n",
    "    dP = P*(bP/x3-aP); pituitary[i+1] = P + dP ## x1 activate P\n",
    "    t3.append([x3/u])\n",
    "    hormones.append([x1,x2,x3])\n",
    "    \n",
    "res = np.array(hormones[-365:]); \n",
    "res = res/np.mean(res,axis=0);\n",
    "\n",
    "ax1 = plt.subplot2grid((3, 1), (0, 0))\n",
    "ax2 = plt.subplot2grid((3, 1), (1, 0))\n",
    "ax3 = plt.subplot2grid((3, 1), (2, 0))\n",
    "axes= [ax1,ax2,ax3]\n",
    "\n",
    "theory_3_subplot_big(axes,np.arange(365)/365*12,[daytemp(t) for t in sim_time[-365:]],\n",
    "                 res[:,1],res[:,2],'TSH','T4',def_color[1],def_color[0],'HPT Model') \n",
    "HPT_phase_axspan(ax2,ax3)\n",
    "\n",
    "ax3b = ax3.twinx()\n",
    "ax3b.plot(np.arange(365)/365*12,np.array(t3/np.mean(t3[-365:]))[-365:],'--',c=def_color[0])\n",
    "ax3b.set_yticks([])\n",
    "plt.show()"
   ]
  },
  {
   "cell_type": "code",
   "execution_count": 66,
   "metadata": {},
   "outputs": [
    {
     "data": {
      "image/png": "[encoded data removed]",
      "text/plain": [
       "<Figure size 432x288 with 4 Axes>"
      ]
     },
     "metadata": {
      "needs_background": "light"
     },
     "output_type": "display_data"
    }
   ],
   "source": [
    "'''\n",
    "HPT Model\n",
    "'''\n",
    "###############################################\n",
    "sim_time  = np.linspace(-21,4*365-1-21,4*365)\n",
    "thyroid   = np.zeros_like(sim_time); thyroid[0]  = 1\n",
    "pituitary = np.zeros_like(sim_time); pituitary[0]= 1\n",
    "\n",
    "aP = np.log(2)/30; aT = np.log(2)/30 \n",
    "bP = np.log(2)/30; bT = np.log(2)/30\n",
    "\n",
    "hormones = []\n",
    "t3       = []\n",
    "for i,t in enumerate(sim_time[:-1]):\n",
    "    T = thyroid[i]; \n",
    "    P = pituitary[i]\n",
    "    u = daytemp(t)/yearly_mean\n",
    "\n",
    "    x1,x2,x3  = GetNumericSS_HPT(u,T,P,1,1)\n",
    "    dT = T*(bT*x2-aT); thyroid[i+1]   = T + dT\n",
    "    dP = P*(bP/x3-aP); pituitary[i+1] = P + dP ## x1 activate P\n",
    "    t3.append([x3/u])\n",
    "    hormones.append([x1,x2,x3])\n",
    "    \n",
    "res = np.array(hormones[-365:]); \n",
    "res = res/np.mean(res,axis=0);\n",
    "\n",
    "ax1 = plt.subplot2grid((3, 1), (0, 0))\n",
    "ax2 = plt.subplot2grid((3, 1), (1, 0))\n",
    "ax3 = plt.subplot2grid((3, 1), (2, 0))\n",
    "axes= [ax1,ax2,ax3]\n",
    "\n",
    "theory_3_subplot_big(axes,np.arange(365)/365*12,[daytemp(t) for t in sim_time[-365:]],\n",
    "                 res[:,1],res[:,2],'TSH','T4',def_color[1],def_color[0],'HPT Model') \n",
    "HPT_phase_axspan(ax2,ax3)\n",
    "\n",
    "ax3b = ax3.twinx()\n",
    "ax3b.plot(np.arange(365)/365*12,np.array(t3/np.mean(t3[-365:]))[-365:],'--',c=def_color[0])\n",
    "ax3b.set_yticks([])\n",
    "plt.show()"
   ]
  },
  {
   "cell_type": "code",
   "execution_count": null,
   "metadata": {},
   "outputs": [],
   "source": []
  },
  {
   "cell_type": "code",
   "execution_count": null,
   "metadata": {},
   "outputs": [],
   "source": []
  },
  {
   "cell_type": "code",
   "execution_count": null,
   "metadata": {},
   "outputs": [],
   "source": []
  },
  {
   "cell_type": "code",
   "execution_count": 150,
   "metadata": {},
   "outputs": [
    {
     "data": {
      "application/vnd.jupyter.widget-view+json": {
       "model_id": "997ffc9e12084212aff9112e3a068b10",
       "version_major": 2,
       "version_minor": 0
      },
      "text/plain": [
       "HBox(children=(IntProgress(value=0), HTML(value='')))"
      ]
     },
     "metadata": {},
     "output_type": "display_data"
    },
    {
     "data": {
      "application/vnd.jupyter.widget-view+json": {
       "model_id": "7aa0787ed8a94f368a22935c4a531458",
       "version_major": 2,
       "version_minor": 0
      },
      "text/plain": [
       "HBox(children=(IntProgress(value=0), HTML(value='')))"
      ]
     },
     "metadata": {},
     "output_type": "display_data"
    },
    {
     "data": {
      "application/vnd.jupyter.widget-view+json": {
       "model_id": "9f5249f217854890be9c490f464b86ac",
       "version_major": 2,
       "version_minor": 0
      },
      "text/plain": [
       "HBox(children=(IntProgress(value=0), HTML(value='')))"
      ]
     },
     "metadata": {},
     "output_type": "display_data"
    },
    {
     "data": {
      "application/vnd.jupyter.widget-view+json": {
       "model_id": "c7e6fd90f9de4c8692cf311c6634e3e0",
       "version_major": 2,
       "version_minor": 0
      },
      "text/plain": [
       "HBox(children=(IntProgress(value=0), HTML(value='')))"
      ]
     },
     "metadata": {},
     "output_type": "display_data"
    },
    {
     "data": {
      "application/vnd.jupyter.widget-view+json": {
       "model_id": "bfc09d0eb5be406984a517208af1bdd0",
       "version_major": 2,
       "version_minor": 0
      },
      "text/plain": [
       "HBox(children=(IntProgress(value=0), HTML(value='')))"
      ]
     },
     "metadata": {},
     "output_type": "display_data"
    },
    {
     "data": {
      "application/vnd.jupyter.widget-view+json": {
       "model_id": "2782041dbf534727864e2c610a781974",
       "version_major": 2,
       "version_minor": 0
      },
      "text/plain": [
       "HBox(children=(IntProgress(value=0), HTML(value='')))"
      ]
     },
     "metadata": {},
     "output_type": "display_data"
    },
    {
     "data": {
      "application/vnd.jupyter.widget-view+json": {
       "model_id": "402d4a0d4ab34736b07c3866c1ce11fc",
       "version_major": 2,
       "version_minor": 0
      },
      "text/plain": [
       "HBox(children=(IntProgress(value=0), HTML(value='')))"
      ]
     },
     "metadata": {},
     "output_type": "display_data"
    },
    {
     "data": {
      "application/vnd.jupyter.widget-view+json": {
       "model_id": "e4d29929fd144a5cb62ff90c5c0bf144",
       "version_major": 2,
       "version_minor": 0
      },
      "text/plain": [
       "HBox(children=(IntProgress(value=0), HTML(value='')))"
      ]
     },
     "metadata": {},
     "output_type": "display_data"
    },
    {
     "data": {
      "application/vnd.jupyter.widget-view+json": {
       "model_id": "f1e8fcd570a24ee0b8dfa4451b61af87",
       "version_major": 2,
       "version_minor": 0
      },
      "text/plain": [
       "HBox(children=(IntProgress(value=0), HTML(value='')))"
      ]
     },
     "metadata": {},
     "output_type": "display_data"
    },
    {
     "data": {
      "application/vnd.jupyter.widget-view+json": {
       "model_id": "f484634d02134b968adb0534d1f6613a",
       "version_major": 2,
       "version_minor": 0
      },
      "text/plain": [
       "HBox(children=(IntProgress(value=0), HTML(value='')))"
      ]
     },
     "metadata": {},
     "output_type": "display_data"
    },
    {
     "data": {
      "application/vnd.jupyter.widget-view+json": {
       "model_id": "91d64d80929742f4b4aec132638faae1",
       "version_major": 2,
       "version_minor": 0
      },
      "text/plain": [
       "HBox(children=(IntProgress(value=0), HTML(value='')))"
      ]
     },
     "metadata": {},
     "output_type": "display_data"
    },
    {
     "data": {
      "application/vnd.jupyter.widget-view+json": {
       "model_id": "632bd3482b3b4663a20cc5b26774709c",
       "version_major": 2,
       "version_minor": 0
      },
      "text/plain": [
       "HBox(children=(IntProgress(value=0), HTML(value='')))"
      ]
     },
     "metadata": {},
     "output_type": "display_data"
    },
    {
     "data": {
      "application/vnd.jupyter.widget-view+json": {
       "model_id": "1f8b42de6c8341e9b66ad9f8e3908331",
       "version_major": 2,
       "version_minor": 0
      },
      "text/plain": [
       "HBox(children=(IntProgress(value=0), HTML(value='')))"
      ]
     },
     "metadata": {},
     "output_type": "display_data"
    },
    {
     "data": {
      "application/vnd.jupyter.widget-view+json": {
       "model_id": "566e93b23b3f4805864630a4c18b8dc5",
       "version_major": 2,
       "version_minor": 0
      },
      "text/plain": [
       "HBox(children=(IntProgress(value=0), HTML(value='')))"
      ]
     },
     "metadata": {},
     "output_type": "display_data"
    },
    {
     "data": {
      "application/vnd.jupyter.widget-view+json": {
       "model_id": "0e9b0766538c4f47922f7ca11daa3da9",
       "version_major": 2,
       "version_minor": 0
      },
      "text/plain": [
       "HBox(children=(IntProgress(value=0), HTML(value='')))"
      ]
     },
     "metadata": {},
     "output_type": "display_data"
    },
    {
     "data": {
      "application/vnd.jupyter.widget-view+json": {
       "model_id": "f6c1a166d7ff4cf09a3815cbe2b51962",
       "version_major": 2,
       "version_minor": 0
      },
      "text/plain": [
       "HBox(children=(IntProgress(value=0), HTML(value='')))"
      ]
     },
     "metadata": {},
     "output_type": "display_data"
    },
    {
     "data": {
      "application/vnd.jupyter.widget-view+json": {
       "model_id": "e2fada9fb9374b319a4ef2da2617d978",
       "version_major": 2,
       "version_minor": 0
      },
      "text/plain": [
       "HBox(children=(IntProgress(value=0), HTML(value='')))"
      ]
     },
     "metadata": {},
     "output_type": "display_data"
    },
    {
     "data": {
      "application/vnd.jupyter.widget-view+json": {
       "model_id": "acee6a73e30d42e9b45b0fe3df4ea7e1",
       "version_major": 2,
       "version_minor": 0
      },
      "text/plain": [
       "HBox(children=(IntProgress(value=0), HTML(value='')))"
      ]
     },
     "metadata": {},
     "output_type": "display_data"
    },
    {
     "data": {
      "application/vnd.jupyter.widget-view+json": {
       "model_id": "9d9e6c93a753419d860e25628946cd6c",
       "version_major": 2,
       "version_minor": 0
      },
      "text/plain": [
       "HBox(children=(IntProgress(value=0), HTML(value='')))"
      ]
     },
     "metadata": {},
     "output_type": "display_data"
    },
    {
     "data": {
      "application/vnd.jupyter.widget-view+json": {
       "model_id": "9e8bade9219b43fca71721d048ea3e80",
       "version_major": 2,
       "version_minor": 0
      },
      "text/plain": [
       "HBox(children=(IntProgress(value=0), HTML(value='')))"
      ]
     },
     "metadata": {},
     "output_type": "display_data"
    },
    {
     "data": {
      "application/vnd.jupyter.widget-view+json": {
       "model_id": "afd32bcc633749af844f38c66c02c30a",
       "version_major": 2,
       "version_minor": 0
      },
      "text/plain": [
       "HBox(children=(IntProgress(value=0), HTML(value='')))"
      ]
     },
     "metadata": {},
     "output_type": "display_data"
    },
    {
     "data": {
      "application/vnd.jupyter.widget-view+json": {
       "model_id": "30b5fce875234f8fb80af1278190d435",
       "version_major": 2,
       "version_minor": 0
      },
      "text/plain": [
       "HBox(children=(IntProgress(value=0), HTML(value='')))"
      ]
     },
     "metadata": {},
     "output_type": "display_data"
    },
    {
     "data": {
      "application/vnd.jupyter.widget-view+json": {
       "model_id": "4dabc334f8a64c80be9befe73d846d48",
       "version_major": 2,
       "version_minor": 0
      },
      "text/plain": [
       "HBox(children=(IntProgress(value=0), HTML(value='')))"
      ]
     },
     "metadata": {},
     "output_type": "display_data"
    },
    {
     "data": {
      "application/vnd.jupyter.widget-view+json": {
       "model_id": "2c76029062e145ceba52402ed0597dcf",
       "version_major": 2,
       "version_minor": 0
      },
      "text/plain": [
       "HBox(children=(IntProgress(value=0), HTML(value='')))"
      ]
     },
     "metadata": {},
     "output_type": "display_data"
    },
    {
     "data": {
      "application/vnd.jupyter.widget-view+json": {
       "model_id": "564db593c9864f31a2137b8844db90dd",
       "version_major": 2,
       "version_minor": 0
      },
      "text/plain": [
       "HBox(children=(IntProgress(value=0), HTML(value='')))"
      ]
     },
     "metadata": {},
     "output_type": "display_data"
    },
    {
     "data": {
      "application/vnd.jupyter.widget-view+json": {
       "model_id": "ffe68baaf3aa469a81a806f823dd6c54",
       "version_major": 2,
       "version_minor": 0
      },
      "text/plain": [
       "HBox(children=(IntProgress(value=0), HTML(value='')))"
      ]
     },
     "metadata": {},
     "output_type": "display_data"
    },
    {
     "data": {
      "application/vnd.jupyter.widget-view+json": {
       "model_id": "baf66d94b34744e188793164a42455f1",
       "version_major": 2,
       "version_minor": 0
      },
      "text/plain": [
       "HBox(children=(IntProgress(value=0), HTML(value='')))"
      ]
     },
     "metadata": {},
     "output_type": "display_data"
    },
    {
     "data": {
      "application/vnd.jupyter.widget-view+json": {
       "model_id": "fffd92ce8aa844c3952f997b5b2d3bfb",
       "version_major": 2,
       "version_minor": 0
      },
      "text/plain": [
       "HBox(children=(IntProgress(value=0), HTML(value='')))"
      ]
     },
     "metadata": {},
     "output_type": "display_data"
    },
    {
     "data": {
      "application/vnd.jupyter.widget-view+json": {
       "model_id": "91d41ce8ec8840a386ad787499a6cc74",
       "version_major": 2,
       "version_minor": 0
      },
      "text/plain": [
       "HBox(children=(IntProgress(value=0), HTML(value='')))"
      ]
     },
     "metadata": {},
     "output_type": "display_data"
    },
    {
     "data": {
      "application/vnd.jupyter.widget-view+json": {
       "model_id": "d12a0af7e4534aa89877c37af52c57fe",
       "version_major": 2,
       "version_minor": 0
      },
      "text/plain": [
       "HBox(children=(IntProgress(value=0), HTML(value='')))"
      ]
     },
     "metadata": {},
     "output_type": "display_data"
    },
    {
     "data": {
      "application/vnd.jupyter.widget-view+json": {
       "model_id": "a4d303b55b7841dda89a4de7fa5c6bb2",
       "version_major": 2,
       "version_minor": 0
      },
      "text/plain": [
       "HBox(children=(IntProgress(value=0), HTML(value='')))"
      ]
     },
     "metadata": {},
     "output_type": "display_data"
    },
    {
     "data": {
      "application/vnd.jupyter.widget-view+json": {
       "model_id": "29586f4da7014313b70eb8c86e109d17",
       "version_major": 2,
       "version_minor": 0
      },
      "text/plain": [
       "HBox(children=(IntProgress(value=0), HTML(value='')))"
      ]
     },
     "metadata": {},
     "output_type": "display_data"
    },
    {
     "data": {
      "application/vnd.jupyter.widget-view+json": {
       "model_id": "553fc668867b440f9870a3a202a56b9d",
       "version_major": 2,
       "version_minor": 0
      },
      "text/plain": [
       "HBox(children=(IntProgress(value=0), HTML(value='')))"
      ]
     },
     "metadata": {},
     "output_type": "display_data"
    },
    {
     "data": {
      "application/vnd.jupyter.widget-view+json": {
       "model_id": "acb8220985514f3ba779bb19643cd7f8",
       "version_major": 2,
       "version_minor": 0
      },
      "text/plain": [
       "HBox(children=(IntProgress(value=0), HTML(value='')))"
      ]
     },
     "metadata": {},
     "output_type": "display_data"
    },
    {
     "data": {
      "application/vnd.jupyter.widget-view+json": {
       "model_id": "91fdf8b184af49c1901d0738835def30",
       "version_major": 2,
       "version_minor": 0
      },
      "text/plain": [
       "HBox(children=(IntProgress(value=0), HTML(value='')))"
      ]
     },
     "metadata": {},
     "output_type": "display_data"
    },
    {
     "data": {
      "application/vnd.jupyter.widget-view+json": {
       "model_id": "96f891b2255d4a4b978b5188c0a9b8a5",
       "version_major": 2,
       "version_minor": 0
      },
      "text/plain": [
       "HBox(children=(IntProgress(value=0), HTML(value='')))"
      ]
     },
     "metadata": {},
     "output_type": "display_data"
    },
    {
     "data": {
      "application/vnd.jupyter.widget-view+json": {
       "model_id": "4cb132e3477a4cfc9c1673df3ec486de",
       "version_major": 2,
       "version_minor": 0
      },
      "text/plain": [
       "HBox(children=(IntProgress(value=0), HTML(value='')))"
      ]
     },
     "metadata": {},
     "output_type": "display_data"
    },
    {
     "data": {
      "application/vnd.jupyter.widget-view+json": {
       "model_id": "9aa6f90c34bc4c1e9b8c9859197768f3",
       "version_major": 2,
       "version_minor": 0
      },
      "text/plain": [
       "HBox(children=(IntProgress(value=0), HTML(value='')))"
      ]
     },
     "metadata": {},
     "output_type": "display_data"
    },
    {
     "data": {
      "application/vnd.jupyter.widget-view+json": {
       "model_id": "81cd79fc9671447fb7298abbf2c15369",
       "version_major": 2,
       "version_minor": 0
      },
      "text/plain": [
       "HBox(children=(IntProgress(value=0), HTML(value='')))"
      ]
     },
     "metadata": {},
     "output_type": "display_data"
    },
    {
     "data": {
      "application/vnd.jupyter.widget-view+json": {
       "model_id": "626f90b4ffc84e339c97165553d4a8f2",
       "version_major": 2,
       "version_minor": 0
      },
      "text/plain": [
       "HBox(children=(IntProgress(value=0), HTML(value='')))"
      ]
     },
     "metadata": {},
     "output_type": "display_data"
    },
    {
     "data": {
      "application/vnd.jupyter.widget-view+json": {
       "model_id": "07fd717b46b14239b38883a63c310669",
       "version_major": 2,
       "version_minor": 0
      },
      "text/plain": [
       "HBox(children=(IntProgress(value=0), HTML(value='')))"
      ]
     },
     "metadata": {},
     "output_type": "display_data"
    },
    {
     "data": {
      "application/vnd.jupyter.widget-view+json": {
       "model_id": "f578c31c96094ef59a0971271ab5681c",
       "version_major": 2,
       "version_minor": 0
      },
      "text/plain": [
       "HBox(children=(IntProgress(value=0), HTML(value='')))"
      ]
     },
     "metadata": {},
     "output_type": "display_data"
    },
    {
     "data": {
      "application/vnd.jupyter.widget-view+json": {
       "model_id": "e81ffac4950f4d0e9e7710dc176aa282",
       "version_major": 2,
       "version_minor": 0
      },
      "text/plain": [
       "HBox(children=(IntProgress(value=0), HTML(value='')))"
      ]
     },
     "metadata": {},
     "output_type": "display_data"
    },
    {
     "data": {
      "application/vnd.jupyter.widget-view+json": {
       "model_id": "dd75aab7a85b4a089cd7797abe8bf8ee",
       "version_major": 2,
       "version_minor": 0
      },
      "text/plain": [
       "HBox(children=(IntProgress(value=0), HTML(value='')))"
      ]
     },
     "metadata": {},
     "output_type": "display_data"
    },
    {
     "data": {
      "application/vnd.jupyter.widget-view+json": {
       "model_id": "b902ab18199c4086998c6d00973c6ef7",
       "version_major": 2,
       "version_minor": 0
      },
      "text/plain": [
       "HBox(children=(IntProgress(value=0), HTML(value='')))"
      ]
     },
     "metadata": {},
     "output_type": "display_data"
    },
    {
     "data": {
      "application/vnd.jupyter.widget-view+json": {
       "model_id": "d17c1be3d8414a7fa3762039db9498b4",
       "version_major": 2,
       "version_minor": 0
      },
      "text/plain": [
       "HBox(children=(IntProgress(value=0), HTML(value='')))"
      ]
     },
     "metadata": {},
     "output_type": "display_data"
    },
    {
     "data": {
      "application/vnd.jupyter.widget-view+json": {
       "model_id": "7384602fc1d1414d9d3d1ef846844ffb",
       "version_major": 2,
       "version_minor": 0
      },
      "text/plain": [
       "HBox(children=(IntProgress(value=0), HTML(value='')))"
      ]
     },
     "metadata": {},
     "output_type": "display_data"
    },
    {
     "data": {
      "application/vnd.jupyter.widget-view+json": {
       "model_id": "39944308b9824496bca2ddfa423dd8d9",
       "version_major": 2,
       "version_minor": 0
      },
      "text/plain": [
       "HBox(children=(IntProgress(value=0), HTML(value='')))"
      ]
     },
     "metadata": {},
     "output_type": "display_data"
    },
    {
     "data": {
      "application/vnd.jupyter.widget-view+json": {
       "model_id": "911a315737444374a06c5023403c8d9c",
       "version_major": 2,
       "version_minor": 0
      },
      "text/plain": [
       "HBox(children=(IntProgress(value=0), HTML(value='')))"
      ]
     },
     "metadata": {},
     "output_type": "display_data"
    },
    {
     "data": {
      "application/vnd.jupyter.widget-view+json": {
       "model_id": "f3672453ba12498fb359b0f1ae8e65ec",
       "version_major": 2,
       "version_minor": 0
      },
      "text/plain": [
       "HBox(children=(IntProgress(value=0), HTML(value='')))"
      ]
     },
     "metadata": {},
     "output_type": "display_data"
    },
    {
     "data": {
      "application/vnd.jupyter.widget-view+json": {
       "model_id": "de90baecbf554ecba5786ba98c35ee0a",
       "version_major": 2,
       "version_minor": 0
      },
      "text/plain": [
       "HBox(children=(IntProgress(value=0), HTML(value='')))"
      ]
     },
     "metadata": {},
     "output_type": "display_data"
    },
    {
     "data": {
      "application/vnd.jupyter.widget-view+json": {
       "model_id": "b46a6d5a142e439888911974077ba36a",
       "version_major": 2,
       "version_minor": 0
      },
      "text/plain": [
       "HBox(children=(IntProgress(value=0), HTML(value='')))"
      ]
     },
     "metadata": {},
     "output_type": "display_data"
    },
    {
     "data": {
      "application/vnd.jupyter.widget-view+json": {
       "model_id": "f6ff6a029a7d4050a4afe3c10114c603",
       "version_major": 2,
       "version_minor": 0
      },
      "text/plain": [
       "HBox(children=(IntProgress(value=0), HTML(value='')))"
      ]
     },
     "metadata": {},
     "output_type": "display_data"
    },
    {
     "data": {
      "application/vnd.jupyter.widget-view+json": {
       "model_id": "1ef32d16ca764bc6b8a92ecc728c019a",
       "version_major": 2,
       "version_minor": 0
      },
      "text/plain": [
       "HBox(children=(IntProgress(value=0), HTML(value='')))"
      ]
     },
     "metadata": {},
     "output_type": "display_data"
    },
    {
     "data": {
      "application/vnd.jupyter.widget-view+json": {
       "model_id": "95ff082670764c0294375f7802a9e5b5",
       "version_major": 2,
       "version_minor": 0
      },
      "text/plain": [
       "HBox(children=(IntProgress(value=0), HTML(value='')))"
      ]
     },
     "metadata": {},
     "output_type": "display_data"
    },
    {
     "data": {
      "application/vnd.jupyter.widget-view+json": {
       "model_id": "73d459c3ddc84e899392df8f0be434a9",
       "version_major": 2,
       "version_minor": 0
      },
      "text/plain": [
       "HBox(children=(IntProgress(value=0), HTML(value='')))"
      ]
     },
     "metadata": {},
     "output_type": "display_data"
    },
    {
     "data": {
      "application/vnd.jupyter.widget-view+json": {
       "model_id": "18786018991243bb97cac21ef64a869b",
       "version_major": 2,
       "version_minor": 0
      },
      "text/plain": [
       "HBox(children=(IntProgress(value=0), HTML(value='')))"
      ]
     },
     "metadata": {},
     "output_type": "display_data"
    },
    {
     "data": {
      "application/vnd.jupyter.widget-view+json": {
       "model_id": "3d773f7051dc43968e1d5e262b822a82",
       "version_major": 2,
       "version_minor": 0
      },
      "text/plain": [
       "HBox(children=(IntProgress(value=0), HTML(value='')))"
      ]
     },
     "metadata": {},
     "output_type": "display_data"
    },
    {
     "data": {
      "application/vnd.jupyter.widget-view+json": {
       "model_id": "1f9970b3dc2842bca01f71ff06e612cf",
       "version_major": 2,
       "version_minor": 0
      },
      "text/plain": [
       "HBox(children=(IntProgress(value=0), HTML(value='')))"
      ]
     },
     "metadata": {},
     "output_type": "display_data"
    },
    {
     "data": {
      "application/vnd.jupyter.widget-view+json": {
       "model_id": "5dde69d5f23c4e9d8e9a2e6648ad0fde",
       "version_major": 2,
       "version_minor": 0
      },
      "text/plain": [
       "HBox(children=(IntProgress(value=0), HTML(value='')))"
      ]
     },
     "metadata": {},
     "output_type": "display_data"
    },
    {
     "data": {
      "application/vnd.jupyter.widget-view+json": {
       "model_id": "df35c088478a4e7589df053a05278ebc",
       "version_major": 2,
       "version_minor": 0
      },
      "text/plain": [
       "HBox(children=(IntProgress(value=0), HTML(value='')))"
      ]
     },
     "metadata": {},
     "output_type": "display_data"
    },
    {
     "data": {
      "application/vnd.jupyter.widget-view+json": {
       "model_id": "3a86b533ea7e42438a2176540c71df13",
       "version_major": 2,
       "version_minor": 0
      },
      "text/plain": [
       "HBox(children=(IntProgress(value=0), HTML(value='')))"
      ]
     },
     "metadata": {},
     "output_type": "display_data"
    },
    {
     "data": {
      "application/vnd.jupyter.widget-view+json": {
       "model_id": "b0f73e276705401496b5e20359e7a217",
       "version_major": 2,
       "version_minor": 0
      },
      "text/plain": [
       "HBox(children=(IntProgress(value=0), HTML(value='')))"
      ]
     },
     "metadata": {},
     "output_type": "display_data"
    },
    {
     "data": {
      "application/vnd.jupyter.widget-view+json": {
       "model_id": "ec8efa3361a446529e494f433332bc15",
       "version_major": 2,
       "version_minor": 0
      },
      "text/plain": [
       "HBox(children=(IntProgress(value=0), HTML(value='')))"
      ]
     },
     "metadata": {},
     "output_type": "display_data"
    },
    {
     "data": {
      "application/vnd.jupyter.widget-view+json": {
       "model_id": "341e41d156bd43edb4cb97550d4aec13",
       "version_major": 2,
       "version_minor": 0
      },
      "text/plain": [
       "HBox(children=(IntProgress(value=0), HTML(value='')))"
      ]
     },
     "metadata": {},
     "output_type": "display_data"
    },
    {
     "data": {
      "application/vnd.jupyter.widget-view+json": {
       "model_id": "a553ca0fc6ab4dc5b5352ef60c012ab1",
       "version_major": 2,
       "version_minor": 0
      },
      "text/plain": [
       "HBox(children=(IntProgress(value=0), HTML(value='')))"
      ]
     },
     "metadata": {},
     "output_type": "display_data"
    },
    {
     "data": {
      "application/vnd.jupyter.widget-view+json": {
       "model_id": "cf1259fe195f4cf781d9bbca4c22f215",
       "version_major": 2,
       "version_minor": 0
      },
      "text/plain": [
       "HBox(children=(IntProgress(value=0), HTML(value='')))"
      ]
     },
     "metadata": {},
     "output_type": "display_data"
    },
    {
     "data": {
      "application/vnd.jupyter.widget-view+json": {
       "model_id": "73140104e70d425bb4eace4dd577349b",
       "version_major": 2,
       "version_minor": 0
      },
      "text/plain": [
       "HBox(children=(IntProgress(value=0), HTML(value='')))"
      ]
     },
     "metadata": {},
     "output_type": "display_data"
    },
    {
     "data": {
      "application/vnd.jupyter.widget-view+json": {
       "model_id": "bec231d1a5fc4fc5b15e99601d435c15",
       "version_major": 2,
       "version_minor": 0
      },
      "text/plain": [
       "HBox(children=(IntProgress(value=0), HTML(value='')))"
      ]
     },
     "metadata": {},
     "output_type": "display_data"
    },
    {
     "data": {
      "application/vnd.jupyter.widget-view+json": {
       "model_id": "3527928c27b047168128b7ac3a5c0161",
       "version_major": 2,
       "version_minor": 0
      },
      "text/plain": [
       "HBox(children=(IntProgress(value=0), HTML(value='')))"
      ]
     },
     "metadata": {},
     "output_type": "display_data"
    },
    {
     "data": {
      "application/vnd.jupyter.widget-view+json": {
       "model_id": "ac25d2ab34c1419c90972dc7799d20d1",
       "version_major": 2,
       "version_minor": 0
      },
      "text/plain": [
       "HBox(children=(IntProgress(value=0), HTML(value='')))"
      ]
     },
     "metadata": {},
     "output_type": "display_data"
    },
    {
     "data": {
      "application/vnd.jupyter.widget-view+json": {
       "model_id": "d92a6c1bc6dc426d9402ed063328fbe6",
       "version_major": 2,
       "version_minor": 0
      },
      "text/plain": [
       "HBox(children=(IntProgress(value=0), HTML(value='')))"
      ]
     },
     "metadata": {},
     "output_type": "display_data"
    },
    {
     "data": {
      "application/vnd.jupyter.widget-view+json": {
       "model_id": "d125bdbc8ed24d47b2292164bdfd835e",
       "version_major": 2,
       "version_minor": 0
      },
      "text/plain": [
       "HBox(children=(IntProgress(value=0), HTML(value='')))"
      ]
     },
     "metadata": {},
     "output_type": "display_data"
    },
    {
     "data": {
      "application/vnd.jupyter.widget-view+json": {
       "model_id": "586faca4622e4b2ba806d56c107efc44",
       "version_major": 2,
       "version_minor": 0
      },
      "text/plain": [
       "HBox(children=(IntProgress(value=0), HTML(value='')))"
      ]
     },
     "metadata": {},
     "output_type": "display_data"
    },
    {
     "data": {
      "application/vnd.jupyter.widget-view+json": {
       "model_id": "207d997161e0446c94e6b0613542e447",
       "version_major": 2,
       "version_minor": 0
      },
      "text/plain": [
       "HBox(children=(IntProgress(value=0), HTML(value='')))"
      ]
     },
     "metadata": {},
     "output_type": "display_data"
    },
    {
     "data": {
      "application/vnd.jupyter.widget-view+json": {
       "model_id": "2611ddc4d1d64e4f84028526d97877aa",
       "version_major": 2,
       "version_minor": 0
      },
      "text/plain": [
       "HBox(children=(IntProgress(value=0), HTML(value='')))"
      ]
     },
     "metadata": {},
     "output_type": "display_data"
    },
    {
     "data": {
      "application/vnd.jupyter.widget-view+json": {
       "model_id": "e347438a91ff440e9cd0f4f7455919cb",
       "version_major": 2,
       "version_minor": 0
      },
      "text/plain": [
       "HBox(children=(IntProgress(value=0), HTML(value='')))"
      ]
     },
     "metadata": {},
     "output_type": "display_data"
    },
    {
     "data": {
      "application/vnd.jupyter.widget-view+json": {
       "model_id": "4647b707af1b407c8b6dab204e9e7408",
       "version_major": 2,
       "version_minor": 0
      },
      "text/plain": [
       "HBox(children=(IntProgress(value=0), HTML(value='')))"
      ]
     },
     "metadata": {},
     "output_type": "display_data"
    },
    {
     "data": {
      "application/vnd.jupyter.widget-view+json": {
       "model_id": "fc9bf482503f4a12aea1fc777fec06fe",
       "version_major": 2,
       "version_minor": 0
      },
      "text/plain": [
       "HBox(children=(IntProgress(value=0), HTML(value='')))"
      ]
     },
     "metadata": {},
     "output_type": "display_data"
    },
    {
     "data": {
      "application/vnd.jupyter.widget-view+json": {
       "model_id": "d0d3026d49bb415ca4ebfa1a7345876f",
       "version_major": 2,
       "version_minor": 0
      },
      "text/plain": [
       "HBox(children=(IntProgress(value=0), HTML(value='')))"
      ]
     },
     "metadata": {},
     "output_type": "display_data"
    },
    {
     "data": {
      "application/vnd.jupyter.widget-view+json": {
       "model_id": "a037693dc5de426093b7a62655899fb0",
       "version_major": 2,
       "version_minor": 0
      },
      "text/plain": [
       "HBox(children=(IntProgress(value=0), HTML(value='')))"
      ]
     },
     "metadata": {},
     "output_type": "display_data"
    },
    {
     "data": {
      "application/vnd.jupyter.widget-view+json": {
       "model_id": "2314af8794c74895aca43f0277b58aab",
       "version_major": 2,
       "version_minor": 0
      },
      "text/plain": [
       "HBox(children=(IntProgress(value=0), HTML(value='')))"
      ]
     },
     "metadata": {},
     "output_type": "display_data"
    },
    {
     "data": {
      "application/vnd.jupyter.widget-view+json": {
       "model_id": "76680ea4c9614a73b8dfbe02710e9d79",
       "version_major": 2,
       "version_minor": 0
      },
      "text/plain": [
       "HBox(children=(IntProgress(value=0), HTML(value='')))"
      ]
     },
     "metadata": {},
     "output_type": "display_data"
    },
    {
     "data": {
      "application/vnd.jupyter.widget-view+json": {
       "model_id": "6caa69c7bf594a2abe621fedf9485872",
       "version_major": 2,
       "version_minor": 0
      },
      "text/plain": [
       "HBox(children=(IntProgress(value=0), HTML(value='')))"
      ]
     },
     "metadata": {},
     "output_type": "display_data"
    },
    {
     "data": {
      "application/vnd.jupyter.widget-view+json": {
       "model_id": "30e7c84d4ba642369c7cb9e3746fb773",
       "version_major": 2,
       "version_minor": 0
      },
      "text/plain": [
       "HBox(children=(IntProgress(value=0), HTML(value='')))"
      ]
     },
     "metadata": {},
     "output_type": "display_data"
    },
    {
     "data": {
      "application/vnd.jupyter.widget-view+json": {
       "model_id": "82e5072bd2144fb79994c34cac1ae169",
       "version_major": 2,
       "version_minor": 0
      },
      "text/plain": [
       "HBox(children=(IntProgress(value=0), HTML(value='')))"
      ]
     },
     "metadata": {},
     "output_type": "display_data"
    },
    {
     "data": {
      "application/vnd.jupyter.widget-view+json": {
       "model_id": "dc0d1f4bff2144378da4c28a2bc34dcf",
       "version_major": 2,
       "version_minor": 0
      },
      "text/plain": [
       "HBox(children=(IntProgress(value=0), HTML(value='')))"
      ]
     },
     "metadata": {},
     "output_type": "display_data"
    },
    {
     "data": {
      "application/vnd.jupyter.widget-view+json": {
       "model_id": "7caa32f8c5a74ab48f673604da7d656e",
       "version_major": 2,
       "version_minor": 0
      },
      "text/plain": [
       "HBox(children=(IntProgress(value=0), HTML(value='')))"
      ]
     },
     "metadata": {},
     "output_type": "display_data"
    },
    {
     "data": {
      "application/vnd.jupyter.widget-view+json": {
       "model_id": "375097f23cd14140a4468c66b0d95a2d",
       "version_major": 2,
       "version_minor": 0
      },
      "text/plain": [
       "HBox(children=(IntProgress(value=0), HTML(value='')))"
      ]
     },
     "metadata": {},
     "output_type": "display_data"
    },
    {
     "data": {
      "application/vnd.jupyter.widget-view+json": {
       "model_id": "b233d6b84fa847ae8189bc0fdaaf7010",
       "version_major": 2,
       "version_minor": 0
      },
      "text/plain": [
       "HBox(children=(IntProgress(value=0), HTML(value='')))"
      ]
     },
     "metadata": {},
     "output_type": "display_data"
    },
    {
     "data": {
      "application/vnd.jupyter.widget-view+json": {
       "model_id": "553f345f021048ad82cc27bc13ccce41",
       "version_major": 2,
       "version_minor": 0
      },
      "text/plain": [
       "HBox(children=(IntProgress(value=0), HTML(value='')))"
      ]
     },
     "metadata": {},
     "output_type": "display_data"
    },
    {
     "data": {
      "application/vnd.jupyter.widget-view+json": {
       "model_id": "52bc7eb3c96340baa588914d462fe89c",
       "version_major": 2,
       "version_minor": 0
      },
      "text/plain": [
       "HBox(children=(IntProgress(value=0), HTML(value='')))"
      ]
     },
     "metadata": {},
     "output_type": "display_data"
    },
    {
     "data": {
      "application/vnd.jupyter.widget-view+json": {
       "model_id": "42bba8d3db8d4843a2fb9a0d003e0041",
       "version_major": 2,
       "version_minor": 0
      },
      "text/plain": [
       "HBox(children=(IntProgress(value=0), HTML(value='')))"
      ]
     },
     "metadata": {},
     "output_type": "display_data"
    },
    {
     "data": {
      "application/vnd.jupyter.widget-view+json": {
       "model_id": "24ac044e7d494c6481fc45bc11c60dbd",
       "version_major": 2,
       "version_minor": 0
      },
      "text/plain": [
       "HBox(children=(IntProgress(value=0), HTML(value='')))"
      ]
     },
     "metadata": {},
     "output_type": "display_data"
    },
    {
     "data": {
      "application/vnd.jupyter.widget-view+json": {
       "model_id": "fb09d8cb700440268517283a61828845",
       "version_major": 2,
       "version_minor": 0
      },
      "text/plain": [
       "HBox(children=(IntProgress(value=0), HTML(value='')))"
      ]
     },
     "metadata": {},
     "output_type": "display_data"
    },
    {
     "data": {
      "application/vnd.jupyter.widget-view+json": {
       "model_id": "4aa59b1d0b4c4a87abc056e1dbfe91b1",
       "version_major": 2,
       "version_minor": 0
      },
      "text/plain": [
       "HBox(children=(IntProgress(value=0), HTML(value='')))"
      ]
     },
     "metadata": {},
     "output_type": "display_data"
    },
    {
     "data": {
      "application/vnd.jupyter.widget-view+json": {
       "model_id": "d83fb71618934859b179f3afc8ca921f",
       "version_major": 2,
       "version_minor": 0
      },
      "text/plain": [
       "HBox(children=(IntProgress(value=0), HTML(value='')))"
      ]
     },
     "metadata": {},
     "output_type": "display_data"
    },
    {
     "data": {
      "application/vnd.jupyter.widget-view+json": {
       "model_id": "2b49558926304a21be639e4274a1db86",
       "version_major": 2,
       "version_minor": 0
      },
      "text/plain": [
       "HBox(children=(IntProgress(value=0), HTML(value='')))"
      ]
     },
     "metadata": {},
     "output_type": "display_data"
    },
    {
     "data": {
      "application/vnd.jupyter.widget-view+json": {
       "model_id": "8afaf8b362274eb6b9513a658b948152",
       "version_major": 2,
       "version_minor": 0
      },
      "text/plain": [
       "HBox(children=(IntProgress(value=0), HTML(value='')))"
      ]
     },
     "metadata": {},
     "output_type": "display_data"
    },
    {
     "data": {
      "application/vnd.jupyter.widget-view+json": {
       "model_id": "3722ad2995c04b1dbc0fb020a8873afb",
       "version_major": 2,
       "version_minor": 0
      },
      "text/plain": [
       "HBox(children=(IntProgress(value=0), HTML(value='')))"
      ]
     },
     "metadata": {},
     "output_type": "display_data"
    },
    {
     "data": {
      "application/vnd.jupyter.widget-view+json": {
       "model_id": "dd4b81dd51b64dea88c46a307c3caf5d",
       "version_major": 2,
       "version_minor": 0
      },
      "text/plain": [
       "HBox(children=(IntProgress(value=0), HTML(value='')))"
      ]
     },
     "metadata": {},
     "output_type": "display_data"
    }
   ],
   "source": [
    "'''\n",
    "Numeric parameter scan - may conatin bugs\n",
    "'''\n",
    "############### equations ####################\n",
    "def HPA_fast(y,uapkr):\n",
    "    ## timescale of minutes\n",
    "    a1=1/(7); a2=1/(30); a3=1/(60*1.5); b1=a1   ; b2=a2    ; b3=a3  \n",
    "    u,A,P,k,R  = uapkr\n",
    "    [x1,x2,x3] = y \n",
    "    dy         = np.empty(3)\n",
    "    dy[0] = u*b1/(x3*(1+(x3/k)**3))-a1*x1\n",
    "    dy[1] = b2*x1*P/(1+(x3/k)**3)  -a2*x2\n",
    "    dy[2] = b3*x2*A                -a3*x3\n",
    "    return dy\n",
    "\n",
    "def GetNumericSS_HPA(U,A,P,K,R):\n",
    "    t      = np.linspace(0,60*24,100)\n",
    "    sol    = odeint(lambda y,t:HPA_fast(y,[U,A,P,K,R]),[1,1,1],t)\n",
    "    res    = sol[-1,:]\n",
    "    return res\n",
    "###############################################\n",
    "K0  = 4\n",
    "rPs = [np.log(2)/days for days in np.arange(1,101,1)]\n",
    "rAs = [np.log(2)/days for days in np.arange(1,101,1)]\n",
    "scan_res = []\n",
    "for rateP in tqdm(rPs):\n",
    "    for rateA in tqdm(rAs):\n",
    "        sim_time  = np.linspace(-21,3*365-1-21,3*365)\n",
    "        adrenal   = np.zeros_like(sim_time); adrenal[0]  = 1\n",
    "        pituitary = np.zeros_like(sim_time); pituitary[0]= 1\n",
    "\n",
    "        aP = rateP; aA = rateA;\n",
    "        bP = rateP; bA = rateA\n",
    "\n",
    "        for i,t in enumerate(sim_time[:-1]):\n",
    "            A = adrenal[i]; \n",
    "            P = pituitary[i]\n",
    "            u = 2 - daylen(31.77,delta=23.44*np.cos(2*np.pi*((t)/365))*np.pi/180)/12\n",
    "\n",
    "            x1,x2,x3  = GetNumericSS_HPA(u,A,P,K0,1)\n",
    "            dA = A*(bA*x2-aA); adrenal[i+1]   = A + dA\n",
    "            dP = P*(bP*x1-aP); pituitary[i+1] = P + dP ## x1 activate P\n",
    "\n",
    "        # seperate the fast and slow time scale, simulating again for the last year   \n",
    "        res = np.array([GetNumericSS_HPA(1,A,P,K0,1) for A,P in zip(adrenal[-365:],pituitary[-365:])]); \n",
    "        res = res/np.mean(res,axis=0);\n",
    "\n",
    "        acth = res[:,1].argmax();  cort = res[:,2].argmax()\n",
    "\n",
    "        cort_peak = cort - 21\n",
    "        acth_peak = acth - 21        \n",
    "        scan_res.append([cort_peak/30,acth_peak/30,np.log(2)/rateP,np.log(2)/rateA])\n",
    "scan_res = np.array(scan_res)"
   ]
  },
  {
   "cell_type": "code",
   "execution_count": 151,
   "metadata": {},
   "outputs": [],
   "source": [
    "# pickle.dump(scan_res,open(\"parameter_scan_results_1601.pickle\",\"wb\"))"
   ]
  },
  {
   "cell_type": "code",
   "execution_count": 36,
   "metadata": {},
   "outputs": [],
   "source": [
    "scan_res = pickle.load(open(\"parameter_scan_results_1601.pickle\",\"rb\"))\n",
    "rPs = [np.log(2)/days for days in np.arange(1,101,1)]\n",
    "rAs = [np.log(2)/days for days in np.arange(1,101,1)]"
   ]
  },
  {
   "cell_type": "code",
   "execution_count": 34,
   "metadata": {},
   "outputs": [
    {
     "ename": "NameError",
     "evalue": "name 'scan_res' is not defined",
     "output_type": "error",
     "traceback": [
      "\u001b[1;31m---------------------------------------------------------------------------\u001b[0m",
      "\u001b[1;31mNameError\u001b[0m                                 Traceback (most recent call last)",
      "\u001b[1;32m<ipython-input-34-89177ab569f2>\u001b[0m in \u001b[0;36m<module>\u001b[1;34m\u001b[0m\n\u001b[1;32m----> 1\u001b[1;33m \u001b[0mindices\u001b[0m \u001b[1;33m=\u001b[0m \u001b[1;33m[\u001b[0m\u001b[0mtup\u001b[0m \u001b[1;32mfor\u001b[0m \u001b[0mtup\u001b[0m \u001b[1;32min\u001b[0m \u001b[0mzip\u001b[0m\u001b[1;33m(\u001b[0m\u001b[1;33m[\u001b[0m\u001b[0mint\u001b[0m\u001b[1;33m(\u001b[0m\u001b[0mx\u001b[0m\u001b[1;33m)\u001b[0m \u001b[1;32mfor\u001b[0m \u001b[0mx\u001b[0m \u001b[1;32min\u001b[0m \u001b[1;33m(\u001b[0m\u001b[0mscan_res\u001b[0m\u001b[1;33m[\u001b[0m\u001b[1;33m:\u001b[0m\u001b[1;33m,\u001b[0m\u001b[1;36m2\u001b[0m\u001b[1;33m]\u001b[0m\u001b[1;33m-\u001b[0m\u001b[1;36m1\u001b[0m\u001b[1;33m)\u001b[0m\u001b[1;33m]\u001b[0m\u001b[1;33m,\u001b[0m\u001b[1;33m[\u001b[0m\u001b[0mint\u001b[0m\u001b[1;33m(\u001b[0m\u001b[0my\u001b[0m\u001b[1;33m)\u001b[0m \u001b[1;32mfor\u001b[0m \u001b[0my\u001b[0m \u001b[1;32min\u001b[0m \u001b[1;33m(\u001b[0m\u001b[0mscan_res\u001b[0m\u001b[1;33m[\u001b[0m\u001b[1;33m:\u001b[0m\u001b[1;33m,\u001b[0m\u001b[1;36m3\u001b[0m\u001b[1;33m]\u001b[0m\u001b[1;33m-\u001b[0m\u001b[1;36m1\u001b[0m\u001b[1;33m)\u001b[0m\u001b[1;33m]\u001b[0m\u001b[1;33m)\u001b[0m\u001b[1;33m]\u001b[0m\u001b[1;33m\u001b[0m\u001b[0m\n\u001b[0m\u001b[0;32m      2\u001b[0m \u001b[0mM\u001b[0m       \u001b[1;33m=\u001b[0m \u001b[0mnp\u001b[0m\u001b[1;33m.\u001b[0m\u001b[0mzeros\u001b[0m\u001b[1;33m(\u001b[0m\u001b[1;33m(\u001b[0m\u001b[0mlen\u001b[0m\u001b[1;33m(\u001b[0m\u001b[0mrPs\u001b[0m\u001b[1;33m)\u001b[0m\u001b[1;33m,\u001b[0m\u001b[0mlen\u001b[0m\u001b[1;33m(\u001b[0m\u001b[0mrAs\u001b[0m\u001b[1;33m)\u001b[0m\u001b[1;33m)\u001b[0m\u001b[1;33m)\u001b[0m\u001b[1;33m\u001b[0m\u001b[0m\n\u001b[0;32m      3\u001b[0m \u001b[1;32mfor\u001b[0m \u001b[0mi\u001b[0m\u001b[1;33m,\u001b[0m\u001b[0mxy\u001b[0m \u001b[1;32min\u001b[0m \u001b[0menumerate\u001b[0m\u001b[1;33m(\u001b[0m\u001b[0mindices\u001b[0m\u001b[1;33m)\u001b[0m\u001b[1;33m:\u001b[0m\u001b[1;33m\u001b[0m\u001b[0m\n\u001b[0;32m      4\u001b[0m     \u001b[0mM\u001b[0m\u001b[1;33m[\u001b[0m\u001b[0mxy\u001b[0m\u001b[1;33m[\u001b[0m\u001b[1;36m0\u001b[0m\u001b[1;33m]\u001b[0m\u001b[1;33m,\u001b[0m\u001b[0mxy\u001b[0m\u001b[1;33m[\u001b[0m\u001b[1;36m1\u001b[0m\u001b[1;33m]\u001b[0m\u001b[1;33m]\u001b[0m \u001b[1;33m=\u001b[0m \u001b[0mscan_res\u001b[0m\u001b[1;33m[\u001b[0m\u001b[0mi\u001b[0m\u001b[1;33m,\u001b[0m\u001b[1;36m0\u001b[0m\u001b[1;33m]\u001b[0m\u001b[1;33m\u001b[0m\u001b[0m\n\u001b[0;32m      5\u001b[0m \u001b[1;33m\u001b[0m\u001b[0m\n",
      "\u001b[1;31mNameError\u001b[0m: name 'scan_res' is not defined"
     ]
    }
   ],
   "source": [
    "indices = [tup for tup in zip([int(x) for x in (scan_res[:,2]-1)],[int(y) for y in (scan_res[:,3]-1)])]\n",
    "M       = np.zeros((len(rPs),len(rAs)))\n",
    "for i,xy in enumerate(indices):\n",
    "    M[xy[0],xy[1]] = scan_res[i,0]\n",
    "    \n",
    "M2       = np.zeros((len(rPs),len(rAs)))\n",
    "for i,xy in enumerate(indices):\n",
    "    M2[xy[0],xy[1]] = scan_res[i,1] \n",
    "    \n",
    "M3       = np.zeros((len(rPs),len(rAs)))\n",
    "for i,xy in enumerate(indices):\n",
    "    ap    =1/scan_res[i,2]\n",
    "    aa    = 1/scan_res[i,3]\n",
    "    n_PP  = -1/2\n",
    "    n_AP  = -1/2\n",
    "    n_PA  =  1/2 \n",
    "    n_AA  = -1/2\n",
    "    det   = ap*aa*(n_PP*n_AA-n_AP*n_PA)\n",
    "    trace = ap*n_PP+aa*n_AA\n",
    "    w_0   = np.sqrt(det-(trace**2)/4)\n",
    "    M3[xy[0],xy[1]] = (2*np.pi)/w_0    \n",
    "M3[np.isnan(M3)] = 0   \n",
    "M3 = M3/30\n",
    "\n",
    "M4       = np.zeros((len(rPs),len(rAs)))\n",
    "for i,xy in enumerate(indices):\n",
    "    M4[xy[0],xy[1]] = scan_res[i,1] - scan_res[i,0] \n",
    "\n",
    "constrct1 = (M>=1) & (M<=4)\n",
    "constrct2 = (M2>=4.5) & (M2<=8)\n",
    "constrct3 = (M3>=10) & (M3<=14)\n",
    "constrct4 = (M4>=6) & (M4<=7)\n",
    "constrct_all = constrct1 & constrct2 & constrct3 \n",
    "\n",
    "plt.figure(figsize=(6,6))\n",
    "ax = plt.subplot(1,1,1)\n",
    "\n",
    "ax.contourf(constrct3,levels =1,colors=['white','b'],alpha=0.3)     # resonance freq\n",
    "ax.contourf(constrct1,levels =1,colors=['white','g'],alpha=0.3)     # cort february\n",
    "ax.contourf(constrct2,levels =1,colors=['white','r'],alpha=0.3)     # acth june\n",
    "# ax.contourf(constrct4,levels =1,colors=['white','purple'],alpha=0.2)# phase shift\n",
    "ax.contour(constrct_all,levels =0,colors=['g'])# phase shift\n",
    "\n",
    "ax.set_xticks(np.arange(0,100,10))\n",
    "ax.set_yticks(np.arange(0,100,10))\n",
    "ax.set_xticklabels(np.arange(0,100,10))\n",
    "ax.set_yticklabels(np.arange(0,100,10))\n",
    "ax.set_xlim([0,60])\n",
    "ax.set_ylim([0,60])\n",
    "ax.set_ylabel('P turnover')\n",
    "ax.set_xlabel('A turnover')\n",
    "ax.grid()\n",
    "\n",
    "import matplotlib.patches as mpatches\n",
    "resonance1y = mpatches.Patch(facecolor='b', label='1year resonance',alpha=0.4)\n",
    "cort_phase  = mpatches.Patch(facecolor='g', label='cort phase',alpha=0.4)\n",
    "acth_phase  = mpatches.Patch(facecolor='r', label='acth phase',alpha=0.4)\n",
    "# phased6m    = mpatches.Patch(facecolor='purple', label='6months phasediff',alpha=0.4)\n",
    "all_        = mpatches.Patch(facecolor='g', label='all',alpha=1)\n",
    "\n",
    "ax.legend(handles=[resonance1y,cort_phase,acth_phase,all_],loc=5)\n",
    "plt.tight_layout()\n",
    "# plt.savefig('../figures/Seasonality06012020/turnover_parameter_scan_1501c.pdf',bbox_inches='tight',dpi=600)\n",
    "plt.show()"
   ]
  }
 ],
 "metadata": {
  "kernelspec": {
   "display_name": "Python 3",
   "language": "python",
   "name": "python3"
  },
  "language_info": {
   "codemirror_mode": {
    "name": "ipython",
    "version": 3
   },
   "file_extension": ".py",
   "mimetype": "text/x-python",
   "name": "python",
   "nbconvert_exporter": "python",
   "pygments_lexer": "ipython3",
   "version": "3.6.6"
  }
 },
 "nbformat": 4,
 "nbformat_minor": 2
}
